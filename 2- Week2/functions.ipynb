{
 "cells": [
  {
   "cell_type": "markdown",
   "metadata": {},
   "source": [
    "Fonksiyonlar:"
   ]
  },
  {
   "cell_type": "code",
   "execution_count": null,
   "metadata": {},
   "outputs": [],
   "source": [
    "\"\"\"\n",
    "def (* Required)\n",
    "return()\n",
    "\n",
    "\"\"\"\n",
    "#Parametresiz Fonksiyonlar\n",
    "def sayHello():\n",
    "    print(\"hello world!\")\n",
    "\n",
    "sayHello() "
   ]
  },
  {
   "cell_type": "code",
   "execution_count": null,
   "metadata": {},
   "outputs": [],
   "source": [
    "#Parametre alan fonksiyonlar\n",
    "\n",
    "def sayHello(name):\n",
    "    print(\"Merhaba {} aramıza hoş geldin!\".format(name))\n",
    "    \n",
    "sayHello(\"Nurcan\")"
   ]
  },
  {
   "cell_type": "code",
   "execution_count": null,
   "metadata": {},
   "outputs": [],
   "source": [
    "#İki sayının toplamını geri döndüren fonsiyon\n",
    "\n",
    "def add(num1,num2):\n",
    "    result = num1 + num2\n",
    "    return(result)\n",
    "result = add(3,9)\n",
    "print(result)"
   ]
  },
  {
   "cell_type": "code",
   "execution_count": null,
   "metadata": {},
   "outputs": [],
   "source": [
    "#İki sayının toplamını geri döndüren fonsiyon\n",
    "def add(num1,num2):\n",
    "    return num1 + num2\n",
    "print(add(3,9))"
   ]
  },
  {
   "cell_type": "code",
   "execution_count": null,
   "metadata": {},
   "outputs": [],
   "source": [
    "#tanımlı fonksiyonların kullanımı\n",
    "from random import randint\n",
    "\n",
    "print(randint(10,20))"
   ]
  },
  {
   "cell_type": "code",
   "execution_count": null,
   "metadata": {},
   "outputs": [],
   "source": [
    "#4 işlemi yapan bir hesap makinesi\n",
    "def calculator(num1,num2):\n",
    "    add = num1 + num1\n",
    "    sub  = num1 - num2\n",
    "    mult = num1 * num2\n",
    "    div = num1 / num2 #float olarak bölme\n",
    "    intDiv = num1 // num2 #integer olarak bölme\n",
    "\n",
    "    return add, sub, mult, div, intDiv\n",
    "a, b, c, d, e = calculator(10,2) #Çoklu atama\n",
    "print(\"Toplama: \",a)\n",
    "print(\"Çıkarma: \",b)\n",
    "print(\"Çarpma: \",c)\n",
    "print(\"Float Bölme: \",d)\n",
    "print(\"Int Bölme: \",e)"
   ]
  },
  {
   "cell_type": "markdown",
   "metadata": {},
   "source": [
    "Fonksiyonlar içerisinde değişkenlerin kapsamı:"
   ]
  },
  {
   "cell_type": "code",
   "execution_count": null,
   "metadata": {},
   "outputs": [],
   "source": [
    "global_varialble = \"Global\"\n",
    "\n",
    "def func():\n",
    "    local_variable  = \"Local\"\n",
    "    print(\"Fonksiyon içerisinde global değişken {}, yerel değişken {}\" .format(global_varialble,local_variable))\n",
    "func()\n",
    "print(\"Fonksiyon dışında global değişken {}, yerel değişken {}\" .format(global_varialble,local_variable)) #fonksiyon içinde tanımlanan bir değişkene fonksiyon dışında erişilemez."
   ]
  },
  {
   "cell_type": "code",
   "execution_count": null,
   "metadata": {},
   "outputs": [],
   "source": [
    "a = 4\n",
    "\n",
    "def print_a():\n",
    "    print(a)\n",
    "\n",
    "def print_a2():\n",
    "    a = 8\n",
    "    print(a)\n",
    "\n",
    "def print_a3():\n",
    "    print(a)\n",
    "\n",
    "print_a()\n",
    "print_a2()\n",
    "print_a3()"
   ]
  },
  {
   "cell_type": "code",
   "execution_count": null,
   "metadata": {},
   "outputs": [],
   "source": [
    "a = 4\n",
    "\n",
    "def print_a():\n",
    "    print(a)\n",
    "\n",
    "def print_a2():\n",
    "    global a #global değişkene erişim.\n",
    "    a = 8\n",
    "    print(a)\n",
    "\n",
    "def print_a3():\n",
    "    print(a)\n",
    "\n",
    "print_a()\n",
    "print_a2()\n",
    "print_a3()"
   ]
  },
  {
   "cell_type": "code",
   "execution_count": null,
   "metadata": {},
   "outputs": [],
   "source": [
    "def sayHello(name = \"Katılımcılar\"):\n",
    "    print(\"Hello\", name)\n",
    "\n",
    "sayHello() #default parametreyi kullanır\n",
    "sayHello(\"Nurcan\") #girilen parametreyi kullanır"
   ]
  },
  {
   "cell_type": "code",
   "execution_count": null,
   "metadata": {},
   "outputs": [],
   "source": [
    "#Parametre olarak gelen değerlerin toplamını ekrana yazan fonksiyon\n",
    "def add(*numbers):\n",
    "    total = 0\n",
    "    for i in numbers:\n",
    "        total = total + i \n",
    "    print(\"Toplam: \", total)\n",
    "\n",
    "\n",
    "# 0 parametre\n",
    "add()\n",
    "#4 parametreli\n",
    "add(1,4,6,3)\n",
    "#2 parametreli\n",
    "add(49,2.4)\n"
   ]
  },
  {
   "cell_type": "code",
   "execution_count": null,
   "metadata": {},
   "outputs": [],
   "source": [
    "#Kullanıcının girdiği 2 sayı arasındaki çift sayıları ekrana yazdıralım.\n",
    "#Ardından sayıların ortalamasını hesaplayalım\n",
    "\n",
    "def find(num1, num2):\n",
    "\n",
    "    count  = 0\n",
    "    total = 0\n",
    "\n",
    "    for i in range(num1,num2+1):\n",
    "        if i % 2 == 0:\n",
    "            print(i)\n",
    "            count = count + 1\n",
    "            total  = total + i\n",
    "    print(\"Ortalama: \", total/count)\n",
    "\n",
    "num1 = int(input())\n",
    "num2 = int(input())\n",
    "find(num1,num2)\n",
    "        "
   ]
  },
  {
   "cell_type": "code",
   "execution_count": null,
   "metadata": {},
   "outputs": [],
   "source": [
    "def is_even(num):\n",
    "    if num % 2 == 0:\n",
    "        return True\n",
    "    else:\n",
    "        return False\n",
    "total = 0\n",
    "count = 0 \n",
    "first = int(input(\"Başlangıç değeri \"))\n",
    "last =  int(input(\"Bitiş değeri\"))\n",
    "print(\"{} ile {} arasındaki çift sayılar \".format(first,last))\n",
    "for i in range(first,last+1):\n",
    "    if is_even(i):\n",
    "        print(i)\n",
    "        total += i\n",
    "        count += 1\n",
    "print(\"Ortalama: \", total / count)\n"
   ]
  },
  {
   "cell_type": "code",
   "execution_count": null,
   "metadata": {},
   "outputs": [],
   "source": [
    "#Bir sayının asal olup olmadığını bir fonksiyon ile bulup ekrana basalım\n",
    "\n",
    "def asal(num):\n",
    "    if num > 1: \n",
    "     for i in range (2,num):\n",
    "        if num % i == 0:\n",
    "            print(\"Sayı asal değildir\")\n",
    "            break\n",
    "        else:\n",
    "            print(\"Sayi asal sayıdır\")\n",
    "num = int(input())\n",
    "asal(num)"
   ]
  },
  {
   "cell_type": "code",
   "execution_count": null,
   "metadata": {},
   "outputs": [],
   "source": [
    "def asal(num):\n",
    "    i = 2 \n",
    "    if num > 1:\n",
    "        while i < num:\n",
    "            if num % i == 0:\n",
    "                return \"Asal değildir\"\n",
    "            i = i + 1\n",
    "        else: return \"Sayı Asaldır\" \n",
    "num = int(input())\n",
    "print(asal(num))"
   ]
  },
  {
   "cell_type": "code",
   "execution_count": null,
   "metadata": {},
   "outputs": [],
   "source": [
    "#Girilen değerin asal çarpanlarını bulan fonksiyonu yazalım\n",
    "def asal(num):\n",
    "    i = 2 \n",
    "    if num > 1:\n",
    "        while i < num:\n",
    "            if num % i == 0:\n",
    "                return False\n",
    "            i = i + 1\n",
    "        else: return True\n",
    "\n",
    "def asalCarpan(num2):\n",
    "    carpanlar = [] #boş liste\n",
    "    j = 2\n",
    "    while num2 > 1:\n",
    "        if num2 % j == 0 and asal(j):\n",
    "            carpanlar.append(j)\n",
    "            num2 = num2 / j\n",
    "        j = j + 1\n",
    "    return carpanlar\n",
    "    \n",
    "print(asalCarpan(51)) "
   ]
  }
 ],
 "metadata": {
  "language_info": {
   "name": "python"
  },
  "orig_nbformat": 4
 },
 "nbformat": 4,
 "nbformat_minor": 2
}
