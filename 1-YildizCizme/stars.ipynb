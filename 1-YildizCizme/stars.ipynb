{
 "cells": [
  {
   "cell_type": "code",
   "execution_count": null,
   "metadata": {},
   "outputs": [],
   "source": [
    "for i in range(rows,0,-1):\n",
    "    for j in range(0,i):\n",
    "        print(\"*\",end=\"\")\n",
    "    print()"
   ]
  },
  {
   "cell_type": "code",
   "execution_count": null,
   "metadata": {},
   "outputs": [],
   "source": [
    "rows = 5 \n",
    "for i in range (0,rows):\n",
    "    for j in range (0,i+1):\n",
    "        if j == 0:\n",
    "           print (\" \"*(rows - i) + \"*\",end = \"\")\n",
    "        else: print(\"*\", end = \"\")\n",
    "    print()"
   ]
  },
  {
   "cell_type": "code",
   "execution_count": null,
   "metadata": {},
   "outputs": [],
   "source": [
    "rows = 5\n",
    "for i in range (rows,0,-1):\n",
    "    for j in range(0,i):\n",
    "       if j == 0:\n",
    "        print (\" \"* (rows-i)+ \"*\",end=\"\")\n",
    "       else: print(\"*\", end = \"\")\n",
    "    print() "
   ]
  },
  {
   "cell_type": "code",
   "execution_count": null,
   "metadata": {},
   "outputs": [],
   "source": [
    "rows  = 5\n",
    "for i in range (rows, 0,-1):\n",
    "    print (\" \"* (rows-i)+ \"*\"*i)"
   ]
  },
  {
   "cell_type": "code",
   "execution_count": null,
   "metadata": {},
   "outputs": [],
   "source": [
    "rows = 5\n",
    "for i in range (1,rows+1):\n",
    "         print (\" \"* (rows-i)+ \"*\"*i*2)"
   ]
  },
  {
   "cell_type": "code",
   "execution_count": null,
   "metadata": {},
   "outputs": [],
   "source": [
    "rows = 5\n",
    "for i in range (rows,0,-1):\n",
    "     print (\" \"* (rows-i)+ \"*\"*i*2)"
   ]
  },
  {
   "cell_type": "code",
   "execution_count": null,
   "metadata": {},
   "outputs": [],
   "source": [
    "rows = 5\n",
    "for i in range (0,rows+1):\n",
    "    print(\"*\"*i)\n",
    "    for j in range (0,rows+1):\n",
    "     print (\" \"*(rows-j)+ \"*\"*j)"
   ]
  }
 ],
 "metadata": {
  "interpreter": {
   "hash": "3b5aeedf5bfc3a00fce61d61bb60f5e1e29a742a67792eb3f9b52690462ade10"
  },
  "kernelspec": {
   "display_name": "Python 3.10.4 64-bit (windows store)",
   "language": "python",
   "name": "python3"
  },
  "language_info": {
   "name": "python",
   "version": "3.10.4"
  },
  "orig_nbformat": 4
 },
 "nbformat": 4,
 "nbformat_minor": 2
}
