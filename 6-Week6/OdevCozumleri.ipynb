{
 "cells": [
  {
   "cell_type": "markdown",
   "metadata": {},
   "source": [
    "**Soru 1**\n"
   ]
  },
  {
   "cell_type": "code",
   "execution_count": null,
   "metadata": {},
   "outputs": [],
   "source": [
    "import random\n",
    "def find_absent(list):\n",
    "    list.sort()\n",
    "    new_list = []\n",
    "\n",
    "    for i in range(list[0], list[-1]+1):\n",
    "       if i not in list:\n",
    "        new_list.append(i)\n",
    "        \n",
    "    return(new_list)\n",
    "\n",
    "\n",
    "my_list = list(range(1,101))\n",
    "i = 0\n",
    "while i < 8:\n",
    "    remove_item = random.randint(0,100)\n",
    "\n",
    "    if remove_item in my_list:\n",
    "      my_list.remove(remove_item)\n",
    "      print(\"Kaldırılan Sayı: \",remove_item)\n",
    "      i = i + 1\n",
    "\n",
    "    else:\n",
    "        print(\"Aynı değer çıktı\")\n",
    "random.shuffle(my_list)\n",
    "print(my_list)\n",
    "    \n",
    "\n",
    "print(\"Eksik Sayılar:\" ,find_absent(my_list))\n"
   ]
  },
  {
   "cell_type": "markdown",
   "metadata": {},
   "source": [
    "**Soru 2**\n"
   ]
  },
  {
   "cell_type": "code",
   "execution_count": null,
   "metadata": {},
   "outputs": [],
   "source": [
    "import random\n",
    "\n",
    "num_list = [i for i in range(1,101)]\n",
    "num_list.list(random.randint(0,100))\n",
    "\n",
    "random.shuffle(num_list)\n",
    "print(((100 * 101) // 2) - sum(num_list))"
   ]
  },
  {
   "cell_type": "markdown",
   "metadata": {},
   "source": [
    "**Soru 3**"
   ]
  },
  {
   "cell_type": "code",
   "execution_count": null,
   "metadata": {},
   "outputs": [],
   "source": [
    "my_list = [38, 3, 93, -98, 60, 97, 95, 1, 75]\n",
    "\n",
    "size = len(my_list)\n",
    "for i in range(size):\n",
    "    min_value = i\n",
    "    for j in range(i + 1, size):\n",
    "        if my_list[j] < my_list[min_value]:\n",
    "            min_value = j\n",
    "\n",
    "    temp = my_list[i]\n",
    "    my_list[i] = my_list[min_value]\n",
    "    my_list[min_value] = temp\n",
    "\n",
    "print(my_list)"
   ]
  },
  {
   "cell_type": "markdown",
   "metadata": {},
   "source": [
    "**Soru 4**"
   ]
  },
  {
   "cell_type": "code",
   "execution_count": null,
   "metadata": {},
   "outputs": [],
   "source": [
    "my_list = [1,2,3,3,4,5,6,7,8,9]\n",
    "target = 9\n",
    "\n",
    "for i in range(len(my_list)):\n",
    "    total = my_list[i]\n",
    "    text = str(i)\n",
    "\n",
    "    if total != target:\n",
    "      for j in range(i + 1, len(my_list)):\n",
    "        total = total + my_list[j]\n",
    "        if total == target:\n",
    "            text = text + \", \" + str(j)\n",
    "            print(text)\n",
    "            break\n",
    "        elif total > target:\n",
    "            break\n",
    "        else: \n",
    "            text = text + \", \" + str(j)\n",
    "    else:\n",
    "        print(text)"
   ]
  }
 ],
 "metadata": {
  "language_info": {
   "name": "python"
  },
  "orig_nbformat": 4
 },
 "nbformat": 4,
 "nbformat_minor": 2
}
