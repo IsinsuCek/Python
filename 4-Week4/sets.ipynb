{
 "cells": [
  {
   "cell_type": "markdown",
   "metadata": {},
   "source": [
    "Set\n",
    "\n",
    "* index ile erişilemez, sıralı değillerdir.\n",
    "* Değiştirilemezler (immutable). Eleman ekleme çıkarma işlemi yapılabilir ama setin içindeki eleman değiştirilemez.\n",
    "* {} parantez içerisinde tanımlanır. Elemanlar virgüller ile ayrılır.\n",
    "* Farklı tipte veriler içerebilir.\n",
    "* Duplicate veri taşıyamazlar."
   ]
  },
  {
   "cell_type": "code",
   "execution_count": null,
   "metadata": {},
   "outputs": [],
   "source": [
    "int_set = {1,2,3,4}\n",
    "string_set = {\"İdil\", \"Buket\", \"Yağmur\"}\n",
    "mix_set = {\"Sisterslab\", 2022, True, 3.13}\n",
    "\n",
    "print(mix_set)"
   ]
  },
  {
   "cell_type": "code",
   "execution_count": null,
   "metadata": {},
   "outputs": [],
   "source": [
    "print(type(mix_set))"
   ]
  },
  {
   "cell_type": "code",
   "execution_count": null,
   "metadata": {},
   "outputs": [],
   "source": [
    "my_set = {1,3,4,2,1,3,4,2,5} #duplicate veriler kaldırılır.\n",
    "print(my_set)"
   ]
  },
  {
   "cell_type": "code",
   "execution_count": null,
   "metadata": {},
   "outputs": [],
   "source": [
    "my_list = [1,3,4,2,1,3,4,2,5,5,4,3]\n",
    "print(my_list)\n",
    "\n",
    "#set ile duplicate verilerin silinmesi\n",
    "my_set = set(my_list)\n",
    "print(my_set)\n",
    "\n",
    "my_list = list(my_set)\n",
    "print(my_list)\n",
    "\n",
    "#döngü ile kontrol (duplicate verilerin silinmesi)\n",
    "unique_list = []\n",
    "for i in my_list:\n",
    "    if i not in unique_list:\n",
    "        unique_list.append(i)\n",
    "print(unique_list)        "
   ]
  },
  {
   "cell_type": "code",
   "execution_count": null,
   "metadata": {},
   "outputs": [],
   "source": [
    "#Set içerisinde liste\n",
    "my_set = {\"Nurcan\", \"Nurdan\", \"Ceyda\", [\"İdil\",\"Nurefşan\"]}\n",
    "print(my_set)"
   ]
  },
  {
   "cell_type": "code",
   "execution_count": null,
   "metadata": {},
   "outputs": [],
   "source": [
    "#Set içerisinde tuple, tuple içerisinde list\n",
    "my_set = {\"Nurcan\", \"Nurdan\", \"Ceyda\", (\"İdil\",\"Nurefşan\", [\"Aysel\",\"Merve\"])}\n",
    "print(my_set)"
   ]
  },
  {
   "cell_type": "markdown",
   "metadata": {},
   "source": [
    "Boş bir set oluşturma\n",
    "\n",
    "* my_list -> []\n",
    "* my_tuple -> ()"
   ]
  },
  {
   "cell_type": "code",
   "execution_count": null,
   "metadata": {},
   "outputs": [],
   "source": [
    "my_set = {} #boş dictionary oluşturur.\n",
    "print(type(my_set))"
   ]
  },
  {
   "cell_type": "code",
   "execution_count": null,
   "metadata": {},
   "outputs": [],
   "source": [
    "empty_set = set() #boş set oluşturur.\n",
    "print(type(empty_set))"
   ]
  },
  {
   "cell_type": "markdown",
   "metadata": {},
   "source": [
    "Set elemanlarına erişim"
   ]
  },
  {
   "cell_type": "code",
   "execution_count": null,
   "metadata": {},
   "outputs": [],
   "source": [
    "movies = {\"The Office\",\"The Big Bang Theory\",\"Person of Interest\"}\n",
    "\n",
    "for item in movies:\n",
    "    print(item)"
   ]
  },
  {
   "cell_type": "markdown",
   "metadata": {},
   "source": [
    "Set içerisinde eleman kontrolü"
   ]
  },
  {
   "cell_type": "code",
   "execution_count": null,
   "metadata": {},
   "outputs": [],
   "source": [
    "movies = {\"The Office\",\"The Big Bang Theory\",\"Person of Interest\"}\n",
    "\n",
    "\n",
    "if \"Harry Potter\" in movies:\n",
    "    print(\"Mevcut\")\n",
    "else:\n",
    "    print(\"Mevcut değildir\")    "
   ]
  },
  {
   "cell_type": "markdown",
   "metadata": {},
   "source": [
    "Bir setin uzunluğu"
   ]
  },
  {
   "cell_type": "code",
   "execution_count": null,
   "metadata": {},
   "outputs": [],
   "source": [
    "movies = {\"The Office\",\"The Big Bang Theory\",\"Person of Interest\"}\n",
    "print(len(movies))"
   ]
  },
  {
   "cell_type": "markdown",
   "metadata": {},
   "source": [
    "Bir sete eleman ekleme\n",
    "\n",
    "* add() sete yeni bir eleman ekler.\n",
    "* update() ile birden fazla ekleme işlemi yapılır."
   ]
  },
  {
   "cell_type": "code",
   "execution_count": null,
   "metadata": {},
   "outputs": [],
   "source": [
    "books = {\"Serenad\", \"Küçük Prens\", \"Şeker Portakalı\", \"Harry Potter\"}\n",
    "\n",
    "books.add(\"İnce Memed\")\n",
    "print(books)\n",
    "\n",
    "books.update([\"Demir Ökçe\", \"1984\"])\n",
    "print(books)"
   ]
  },
  {
   "cell_type": "markdown",
   "metadata": {},
   "source": [
    "Bir set içerisinden eleman silme\n",
    "\n",
    "* remove()\n",
    "* discard()\n",
    "* pop()\n",
    "* clear()\n",
    "* del set"
   ]
  },
  {
   "cell_type": "code",
   "execution_count": null,
   "metadata": {},
   "outputs": [],
   "source": [
    "#remove()\n",
    "\n",
    "my_set = {1, 2, 3, 4, 5, 6, 7, 8, 9, 0, 10}\n",
    "my_set.remove(2)\n",
    "\n",
    "print(my_set)"
   ]
  },
  {
   "cell_type": "code",
   "execution_count": null,
   "metadata": {},
   "outputs": [],
   "source": [
    "\n",
    "my_set = {1, 2, 3, 4, 5, 6, 7, 8, 9, 0, 10}\n",
    "my_set.remove(11)"
   ]
  },
  {
   "cell_type": "code",
   "execution_count": null,
   "metadata": {},
   "outputs": [],
   "source": [
    "#discard()\n",
    "\n",
    "my_set = {1, 2, 3, 4, 5, 6, 7, 8, 9, 0, 10}\n",
    "my_set.discard(3)\n",
    "\n",
    "print(my_set)"
   ]
  },
  {
   "cell_type": "code",
   "execution_count": null,
   "metadata": {},
   "outputs": [],
   "source": [
    "#remove() aksine hata vermez\n",
    "my_set = {1, 2, 3, 4, 5, 6, 7, 8, 9, 0, 10}\n",
    "my_set.discard(11)\n",
    "\n",
    "print(my_set)"
   ]
  },
  {
   "cell_type": "code",
   "execution_count": null,
   "metadata": {},
   "outputs": [],
   "source": [
    "#pop()\n",
    "my_set = {1, 2, 3, 4, 5, 6, 7, 8, 9, 0, 10}\n",
    "my_set.pop() #rastgele  bir eleman siler\n",
    "\n",
    "print(my_set)"
   ]
  },
  {
   "cell_type": "code",
   "execution_count": null,
   "metadata": {},
   "outputs": [],
   "source": [
    "#clear()\n",
    "my_set = {1, 2, 3, 4, 5, 6, 7, 8, 9, 0, 10}\n",
    "my_set.clear() #set'i tamamen temizler boş çıktı verir\n",
    "\n",
    "print(my_set)\n",
    "\n"
   ]
  },
  {
   "cell_type": "code",
   "execution_count": null,
   "metadata": {},
   "outputs": [],
   "source": [
    "#del set\n",
    "my_set = {1, 2, 3, 4, 5, 6, 7, 8, 9, 0, 10}\n",
    "del my_set #set'i tamamen siler\n",
    "\n",
    "print(my_set)\n"
   ]
  },
  {
   "cell_type": "markdown",
   "metadata": {},
   "source": [
    "Set üzerinde kullanabileceğimiz operatöreler\n",
    "* union() -> |\n",
    "* intersection() -> &\n",
    "* difference() -> -\n",
    "* symmetric_difference -> ^"
   ]
  },
  {
   "cell_type": "markdown",
   "metadata": {},
   "source": [
    "union()\n",
    "\n",
    "İki setin birleştirilme işlemi için kullanılır\n",
    "Her iki sette var olan veriyi tek olarak alır"
   ]
  },
  {
   "cell_type": "code",
   "execution_count": null,
   "metadata": {},
   "outputs": [],
   "source": [
    "#union()\n",
    "my_set1 = {\"Asena\", \"Başak\", \"Bircan\", \"Emre\"}\n",
    "my_set2 = {\"Emre\", \"Burak\", \"Bilal\"}\n",
    "\n",
    "my_set3 = my_set1 | my_set2\n",
    "my_set4 = my_set1.union(my_set2)\n",
    "\n",
    "print(my_set3)\n",
    "print(my_set4)"
   ]
  },
  {
   "cell_type": "markdown",
   "metadata": {},
   "source": [
    "intersection()\n",
    "\n",
    "Her iki sette yer alan ortak elemanları gösterir."
   ]
  },
  {
   "cell_type": "code",
   "execution_count": null,
   "metadata": {},
   "outputs": [],
   "source": [
    "#intersection()\n",
    "my_set1 = {1,2,3,4,5}\n",
    "my_set2 = {4,5,6,7,8}\n",
    "\n",
    "new_set = my_set1 & my_set2\n",
    "new_set2 = my_set1.intersection(my_set2)\n",
    "\n",
    "print(new_set)\n",
    "print(new_set2)"
   ]
  },
  {
   "cell_type": "markdown",
   "metadata": {},
   "source": [
    "intersection_update() -> orijinal seti kesişim kümesiyle günceller"
   ]
  },
  {
   "cell_type": "code",
   "execution_count": null,
   "metadata": {},
   "outputs": [],
   "source": [
    "my_set1 = {1,2,3,4,5}\n",
    "my_set2 = {4,5,6,7,8}\n",
    "print(my_set1)\n",
    "my_set1.intersection_update(my_set2)\n",
    "print(my_set1)"
   ]
  },
  {
   "cell_type": "markdown",
   "metadata": {},
   "source": [
    "difference()"
   ]
  },
  {
   "cell_type": "code",
   "execution_count": null,
   "metadata": {},
   "outputs": [],
   "source": [
    "#difference()\n",
    "my_set1 = {1,2,3,4,5}\n",
    "my_set2 = {4,5,6,7,8}\n",
    "\n",
    "new_set1 = my_set1 - my_set2\n",
    "new_set2 = my_set1.difference(my_set2)\n",
    "\n",
    "print(new_set1)\n",
    "print(new_set2)"
   ]
  },
  {
   "cell_type": "markdown",
   "metadata": {},
   "source": [
    "difference_update() -> orijinal seti fark kümesiyle günceller"
   ]
  },
  {
   "cell_type": "code",
   "execution_count": null,
   "metadata": {},
   "outputs": [],
   "source": [
    "my_set1 = {1,2,3,4,5}\n",
    "my_set2 = {4,5,6,7,8}\n",
    "\n",
    "print(my_set2)\n",
    "new_set2 = my_set1.difference_update(my_set2)\n",
    "print(my_set2)\n"
   ]
  },
  {
   "cell_type": "markdown",
   "metadata": {},
   "source": [
    "symmetric_difference() -> ortak eleman dışındaki elemanları alır"
   ]
  },
  {
   "cell_type": "code",
   "execution_count": null,
   "metadata": {},
   "outputs": [],
   "source": [
    "#symmetric difference\n",
    "my_set1 = {1,2,3,4,5}\n",
    "my_set2 = {4,5,6,7,8}\n",
    "\n",
    "unique_set1 = my_set1 ^ my_set2\n",
    "unique_set2 = my_set1.symmetric_difference(my_set2)\n",
    "\n",
    "print(unique_set1)\n",
    "print(unique_set2)"
   ]
  },
  {
   "cell_type": "markdown",
   "metadata": {},
   "source": [
    "symmetric_difference_update()"
   ]
  },
  {
   "cell_type": "code",
   "execution_count": null,
   "metadata": {},
   "outputs": [],
   "source": [
    "#symmetric_difference_update()\n",
    "my_set1 = {1,2,3,4,5}\n",
    "my_set2 = {4,5,6,7,8}\n",
    "\n",
    "print(my_set2)\n",
    "my_set2.symmetric_difference_update(my_set1)\n",
    "print(my_set2)\n"
   ]
  },
  {
   "cell_type": "markdown",
   "metadata": {},
   "source": [
    "**Kopyalama İşlemleri**\n",
    "\n",
    "* copy()\n",
    "* set()\n",
    "* = operatörü"
   ]
  },
  {
   "cell_type": "code",
   "execution_count": null,
   "metadata": {},
   "outputs": [],
   "source": [
    "# = operatörü\n",
    "my_set = {2022, True, \"Iphone\", \"Macbook\"}\n",
    "\n",
    "my_set2 = my_set\n",
    "my_set.add(19)\n",
    "\n",
    "print(my_set)\n",
    "print(my_set2)"
   ]
  },
  {
   "cell_type": "code",
   "execution_count": null,
   "metadata": {},
   "outputs": [],
   "source": [
    "# copy()\n",
    "my_set = {2022, True, \"Iphone\", \"Macbook\"}\n",
    "\n",
    "my_set2 = my_set.copy()\n",
    "my_set.add(19)\n",
    "\n",
    "print(my_set)\n",
    "print(my_set2)"
   ]
  },
  {
   "cell_type": "code",
   "execution_count": null,
   "metadata": {},
   "outputs": [],
   "source": [
    "# set()\n",
    "my_set = {2022, True, \"Iphone\", \"Macbook\"}\n",
    "\n",
    "my_set2 = set(my_set)\n",
    "my_set.add(19)\n",
    "\n",
    "print(my_set)\n",
    "print(my_set2)"
   ]
  },
  {
   "cell_type": "markdown",
   "metadata": {},
   "source": [
    "subset & superset\n",
    "\n",
    "- issubset() -> alt küme kontrolü\n",
    "- issuperset() -> üst küme kontrolü"
   ]
  },
  {
   "cell_type": "code",
   "execution_count": null,
   "metadata": {},
   "outputs": [],
   "source": [
    "my_set = {3,\"Python\",4,7,True}\n",
    "sub_set = {\"Python\"}\n",
    "\n",
    "print(sub_set.issubset(my_set))\n",
    "print(my_set.issuperset(sub_set))"
   ]
  },
  {
   "cell_type": "markdown",
   "metadata": {},
   "source": [
    "Frozenset -> Değişmez bir set oluşturmak içinn kullanılır"
   ]
  },
  {
   "cell_type": "code",
   "execution_count": null,
   "metadata": {},
   "outputs": [],
   "source": [
    "name_set = {\"Merve\", \"Hilal\", \"Nihal\"}\n",
    "frozen_set = frozenset(name_set)\n",
    "\n",
    "frozen_set.add(\"Aysel\") #Hata verir"
   ]
  },
  {
   "cell_type": "markdown",
   "metadata": {},
   "source": [
    "new_set = {expresssion(i) for i in my_set if i in condition}"
   ]
  },
  {
   "cell_type": "code",
   "execution_count": null,
   "metadata": {},
   "outputs": [],
   "source": [
    "#1'den 10'a kadar olan sayıların iki katını ekrana basar\n",
    "new_set  ={1*2 for i in range(1,10)}\n",
    "\n",
    "print(new_set)"
   ]
  },
  {
   "cell_type": "code",
   "execution_count": null,
   "metadata": {},
   "outputs": [],
   "source": [
    "#1'den 10'a kadar sadece çift sayıların iki katını alıp ekrana basar\n",
    "\n",
    "new_set = {1*2 for i in range(1,10) if i % 2 == 0}\n",
    "print(new_set) "
   ]
  },
  {
   "cell_type": "code",
   "execution_count": null,
   "metadata": {},
   "outputs": [],
   "source": [
    "# Bir listenin tüm elemanlarını bir sete ekleme işlemi \n",
    "\n",
    "my_set = {1,2,3,4,5}\n",
    "my_list = [4,5,6,7]\n",
    "\n",
    "my_set.update(my_list)\n",
    "print(my_set)"
   ]
  },
  {
   "cell_type": "code",
   "execution_count": null,
   "metadata": {},
   "outputs": [],
   "source": [
    "#İki sette yer alan farklı elemanlardan bir set oluşturma\n",
    "\n",
    "my_set = {1,2,3,4,5}\n",
    "my_set2 = {4,5,6,7,8}\n",
    "\n",
    "print(my_set.symmetric_difference(my_set2))"
   ]
  }
 ],
 "metadata": {
  "language_info": {
   "name": "python"
  },
  "orig_nbformat": 4
 },
 "nbformat": 4,
 "nbformat_minor": 2
}
