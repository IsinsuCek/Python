{
 "cells": [
  {
   "cell_type": "markdown",
   "metadata": {},
   "source": [
    "**Numpy**\n",
    "\n",
    "* Numpy -> Numeric Python\n",
    "* Listelerden 50 kata kadar daha hızlı.\n",
    "* Çok boyutlu array ve matrisler üzerinde yüksek performans ve çalışma imkanı sağlar.\n",
    "* Veri tipleri homojen yapıda olmalıdır. Tüm elemanlar aynı veri tipinde olmalıdır.\n",
    "* Numpy dizilerinin veri tipi ndarray'dir."
   ]
  },
  {
   "cell_type": "markdown",
   "metadata": {},
   "source": [
    "* pip install numpy\n",
    "* np.__version__"
   ]
  },
  {
   "cell_type": "code",
   "execution_count": null,
   "metadata": {},
   "outputs": [],
   "source": [
    "import numpy as np"
   ]
  },
  {
   "cell_type": "code",
   "execution_count": null,
   "metadata": {},
   "outputs": [],
   "source": [
    "nd = np.array([1, 2, 3, 4, 6, 7, 8]) #liste\n",
    "\n",
    "print(nd)"
   ]
  },
  {
   "cell_type": "code",
   "execution_count": null,
   "metadata": {},
   "outputs": [],
   "source": [
    "print(type(nd))"
   ]
  },
  {
   "cell_type": "code",
   "execution_count": null,
   "metadata": {},
   "outputs": [],
   "source": [
    "nd = np.array((1, 2, 3, 4, 6, 7, 8)) #tuplr\n",
    "\n",
    "print(nd)"
   ]
  },
  {
   "cell_type": "markdown",
   "metadata": {},
   "source": [
    "0 Boyutlu Diziler"
   ]
  },
  {
   "cell_type": "code",
   "execution_count": null,
   "metadata": {},
   "outputs": [],
   "source": [
    "nd = np.array(48)\n",
    "print(nd)"
   ]
  },
  {
   "cell_type": "markdown",
   "metadata": {},
   "source": [
    "1-D Diziler"
   ]
  },
  {
   "cell_type": "code",
   "execution_count": null,
   "metadata": {},
   "outputs": [],
   "source": [
    "nd = np.array([1, 2, 3, 4, 6, 7, 8])\n",
    "\n",
    "print(nd)"
   ]
  },
  {
   "cell_type": "markdown",
   "metadata": {},
   "source": [
    "2-D Diziler"
   ]
  },
  {
   "cell_type": "code",
   "execution_count": null,
   "metadata": {},
   "outputs": [],
   "source": [
    "nd_2d = np.array([[1, 2, 3, 4, 6, 7, 8], [1, 2, 3, 4, 6, 7, 8]])\n",
    "print(nd_2d)"
   ]
  },
  {
   "cell_type": "markdown",
   "metadata": {},
   "source": [
    "3-D Diziler"
   ]
  },
  {
   "cell_type": "code",
   "execution_count": null,
   "metadata": {},
   "outputs": [],
   "source": [
    "nd_3d = np.array([[[1, 2, 3, 4, 6, 7, 8], [1, 2, 3, 4, 6, 7, 8]],[[1, 2, 3, 4, 6, 7, 8], [1, 2, 3, 4, 6, 7, 8]]])\n",
    "print(nd_3d)"
   ]
  },
  {
   "cell_type": "markdown",
   "metadata": {},
   "source": [
    "Boyut bulma -> ndim"
   ]
  },
  {
   "cell_type": "code",
   "execution_count": null,
   "metadata": {},
   "outputs": [],
   "source": [
    "nd = np.array([1, 2, 3, 4, 6, 7, 8])\n",
    "nd_2d = np.array([[1, 2, 3, 4, 6, 7, 8], [1, 2, 3, 4, 6, 7, 8]])\n",
    "nd_3d = np.array([[[1, 2, 3, 4, 6, 7, 8], [1, 2, 3, 4, 6, 7, 8]],[[1, 2, 3, 4, 6, 7, 8], [1, 2, 3, 4, 6, 7, 8]]])\n",
    "\n",
    "print(nd.ndim) #1\n",
    "print(nd_2d.ndim) #2\n",
    "print(nd_3d.ndim) #3"
   ]
  },
  {
   "cell_type": "code",
   "execution_count": null,
   "metadata": {},
   "outputs": [],
   "source": [
    "nd = np.array([1, 2, 3], ndmin = 2)\n",
    "print(nd)\n",
    "print(nd.ndim) #2"
   ]
  },
  {
   "cell_type": "markdown",
   "metadata": {},
   "source": [
    "shape -> dizinin satır sütun sayısını verir"
   ]
  },
  {
   "cell_type": "code",
   "execution_count": null,
   "metadata": {},
   "outputs": [],
   "source": [
    "nd = np.array([1, 2, 3, 4, 48])\n",
    "nd_2d = np.array([[1, 2, 0, 3, 4, 6], [4, 5, 7, 8, 4, 9]])\n",
    "\n",
    "print(\"1 boyutlu dizi \", nd.shape)\n",
    "print(\"2 boyutlu dizi \", nd_2d.shape)"
   ]
  },
  {
   "cell_type": "markdown",
   "metadata": {},
   "source": [
    ".reshape() -> dizinin satır ve sütun değerlerini değiştirir"
   ]
  },
  {
   "cell_type": "code",
   "execution_count": null,
   "metadata": {},
   "outputs": [],
   "source": [
    "nd = np.array([1, 2, 3, 4, 5, 6, 7, 8, 9, 10])\n",
    "\n",
    "print(nd.shape)\n",
    "print(\"\\n2X5\")\n",
    "print(nd.reshape(2, 5))\n",
    "print(\"\\n5X2\")\n",
    "print(nd.reshape(5,2))"
   ]
  },
  {
   "cell_type": "markdown",
   "metadata": {},
   "source": [
    "np.arange()\n",
    "\n",
    "[start, end, step]"
   ]
  },
  {
   "cell_type": "code",
   "execution_count": null,
   "metadata": {},
   "outputs": [],
   "source": [
    "nd = np.arange(0, 10, 2)\n",
    "print(nd)"
   ]
  },
  {
   "cell_type": "markdown",
   "metadata": {},
   "source": [
    "Dizi elemanlarına erişim"
   ]
  },
  {
   "cell_type": "code",
   "execution_count": null,
   "metadata": {},
   "outputs": [],
   "source": [
    "#1-D dizilerde\n",
    "nd = np.arange(0, 11, 3)\n",
    "print(nd[2]) #2"
   ]
  },
  {
   "cell_type": "code",
   "execution_count": null,
   "metadata": {},
   "outputs": [],
   "source": [
    "#2-D dizilerde\n",
    "nd_2d = np.array([[1, 2, 0, 3, 4, 6], [4, 5, 7, 8, 4, 9]])\n",
    "print(nd_2d)\n",
    "\n",
    "#9 elemanına erişim\n",
    "print(nd_2d[1, 5]) #9\n",
    "\n",
    "#negatif indeksleme\n",
    "print(nd_2d[1, -1])"
   ]
  },
  {
   "cell_type": "code",
   "execution_count": null,
   "metadata": {},
   "outputs": [],
   "source": [
    "#3-D dizilerde \n",
    "nd_3d = np.array([[[1, 2, 3], [4, 6, 7]],[[3, 4, 6], [6, 7, 8]]])\n",
    "\n",
    "print(nd_3d)\n",
    "print(nd_3d[0, 1, 2]) #7"
   ]
  },
  {
   "cell_type": "markdown",
   "metadata": {},
   "source": [
    "NumPy Slicing\n",
    "\n",
    "[start, end, step]"
   ]
  },
  {
   "cell_type": "code",
   "execution_count": null,
   "metadata": {},
   "outputs": [],
   "source": [
    "nd = np.array([1, 2, 3, 4, 5, 6, 7, 8, 9, 10])\n",
    "\n",
    "print(nd[:4])"
   ]
  },
  {
   "cell_type": "code",
   "execution_count": null,
   "metadata": {},
   "outputs": [],
   "source": [
    "nd_2d = np.array([[1, 2, 0, 3, 4, 6], [4, 5, 7, 8, 4, 9], [3, 5, 6, 8, 9, 0]])\n",
    "\n",
    "print(nd_2d[0:2, 1:4])"
   ]
  },
  {
   "cell_type": "code",
   "execution_count": null,
   "metadata": {},
   "outputs": [],
   "source": [
    "print(nd_2d.dtype)"
   ]
  },
  {
   "cell_type": "markdown",
   "metadata": {},
   "source": [
    "0 matrisi oluşturma -> np.zeros()"
   ]
  },
  {
   "cell_type": "code",
   "execution_count": null,
   "metadata": {},
   "outputs": [],
   "source": [
    "print(np.zeros((4, 5)))"
   ]
  },
  {
   "cell_type": "markdown",
   "metadata": {},
   "source": [
    "1'lerden oluşan matris oluşturma -> np.ones()"
   ]
  },
  {
   "cell_type": "code",
   "execution_count": null,
   "metadata": {},
   "outputs": [],
   "source": [
    "print(np.ones((4, 5)))"
   ]
  },
  {
   "cell_type": "markdown",
   "metadata": {},
   "source": [
    "np.eye() -> Belirlenen boyutlarda birim matris oluşturmamızı sağlar"
   ]
  },
  {
   "cell_type": "code",
   "execution_count": null,
   "metadata": {},
   "outputs": [],
   "source": [
    "print(np.eye(5)) #print(np.eye(5, 5))"
   ]
  }
 ],
 "metadata": {
  "kernelspec": {
   "display_name": "Python 3.10.5 64-bit (windows store)",
   "language": "python",
   "name": "python3"
  },
  "language_info": {
   "name": "python",
   "version": "3.10.5"
  },
  "orig_nbformat": 4,
  "vscode": {
   "interpreter": {
    "hash": "3b5aeedf5bfc3a00fce61d61bb60f5e1e29a742a67792eb3f9b52690462ade10"
   }
  }
 },
 "nbformat": 4,
 "nbformat_minor": 2
}
