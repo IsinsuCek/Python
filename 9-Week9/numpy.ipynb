{
 "cells": [
  {
   "cell_type": "markdown",
   "metadata": {},
   "source": [
    "**Numpy**\n",
    "\n",
    "* Numpy -> Numeric Python\n",
    "* Listelerden 50 kata kadar daha hızlı.\n",
    "* Çok boyutlu array ve matrisler üzerinde yüksek performans ve çalışma imkanı sağlar.\n",
    "* Veri tipleri homojen yapıda olmalıdır. Tüm elemanlar aynı veri tipinde olmalıdır.\n",
    "* Numpy dizilerinin veri tipi ndarray'dir."
   ]
  },
  {
   "cell_type": "markdown",
   "metadata": {},
   "source": [
    "* pip install numpy\n",
    "* np.__version__"
   ]
  },
  {
   "cell_type": "code",
   "execution_count": null,
   "metadata": {},
   "outputs": [],
   "source": [
    "import numpy as np"
   ]
  },
  {
   "cell_type": "code",
   "execution_count": null,
   "metadata": {},
   "outputs": [],
   "source": [
    "nd = np.array([1, 2, 3, 4, 6, 7, 8]) #liste\n",
    "\n",
    "print(nd)"
   ]
  },
  {
   "cell_type": "code",
   "execution_count": null,
   "metadata": {},
   "outputs": [],
   "source": [
    "print(type(nd))"
   ]
  },
  {
   "cell_type": "code",
   "execution_count": null,
   "metadata": {},
   "outputs": [],
   "source": [
    "nd = np.array((1, 2, 3, 4, 6, 7, 8)) #tuplr\n",
    "\n",
    "print(nd)"
   ]
  },
  {
   "cell_type": "markdown",
   "metadata": {},
   "source": [
    "0 Boyutlu Diziler"
   ]
  },
  {
   "cell_type": "code",
   "execution_count": null,
   "metadata": {},
   "outputs": [],
   "source": [
    "nd = np.array(48)\n",
    "print(nd)"
   ]
  },
  {
   "cell_type": "markdown",
   "metadata": {},
   "source": [
    "1-D Diziler"
   ]
  },
  {
   "cell_type": "code",
   "execution_count": null,
   "metadata": {},
   "outputs": [],
   "source": [
    "nd = np.array([1, 2, 3, 4, 6, 7, 8])\n",
    "\n",
    "print(nd)"
   ]
  },
  {
   "cell_type": "markdown",
   "metadata": {},
   "source": [
    "2-D Diziler"
   ]
  },
  {
   "cell_type": "code",
   "execution_count": null,
   "metadata": {},
   "outputs": [],
   "source": [
    "nd_2d = np.array([[1, 2, 3, 4, 6, 7, 8], [1, 2, 3, 4, 6, 7, 8]])\n",
    "print(nd_2d)"
   ]
  },
  {
   "cell_type": "markdown",
   "metadata": {},
   "source": [
    "3-D Diziler"
   ]
  },
  {
   "cell_type": "code",
   "execution_count": null,
   "metadata": {},
   "outputs": [],
   "source": [
    "nd_3d = np.array([[[1, 2, 3, 4, 6, 7, 8], [1, 2, 3, 4, 6, 7, 8]],[[1, 2, 3, 4, 6, 7, 8], [1, 2, 3, 4, 6, 7, 8]]])\n",
    "print(nd_3d)"
   ]
  },
  {
   "cell_type": "markdown",
   "metadata": {},
   "source": [
    "Boyut bulma -> ndim"
   ]
  },
  {
   "cell_type": "code",
   "execution_count": null,
   "metadata": {},
   "outputs": [],
   "source": [
    "nd = np.array([1, 2, 3, 4, 6, 7, 8])\n",
    "nd_2d = np.array([[1, 2, 3, 4, 6, 7, 8], [1, 2, 3, 4, 6, 7, 8]])\n",
    "nd_3d = np.array([[[1, 2, 3, 4, 6, 7, 8], [1, 2, 3, 4, 6, 7, 8]],[[1, 2, 3, 4, 6, 7, 8], [1, 2, 3, 4, 6, 7, 8]]])\n",
    "\n",
    "print(nd.ndim) #1\n",
    "print(nd_2d.ndim) #2\n",
    "print(nd_3d.ndim) #3"
   ]
  },
  {
   "cell_type": "code",
   "execution_count": null,
   "metadata": {},
   "outputs": [],
   "source": [
    "nd = np.array([1, 2, 3], ndmin = 2)\n",
    "print(nd)\n",
    "print(nd.ndim) #2"
   ]
  },
  {
   "cell_type": "markdown",
   "metadata": {},
   "source": [
    "shape -> dizinin satır sütun sayısını verir"
   ]
  },
  {
   "cell_type": "code",
   "execution_count": null,
   "metadata": {},
   "outputs": [],
   "source": [
    "nd = np.array([1, 2, 3, 4, 48])\n",
    "nd_2d = np.array([[1, 2, 0, 3, 4, 6], [4, 5, 7, 8, 4, 9]])\n",
    "\n",
    "print(\"1 boyutlu dizi \", nd.shape)\n",
    "print(\"2 boyutlu dizi \", nd_2d.shape)"
   ]
  },
  {
   "cell_type": "markdown",
   "metadata": {},
   "source": [
    ".reshape() -> dizinin satır ve sütun değerlerini değiştirir"
   ]
  },
  {
   "cell_type": "code",
   "execution_count": null,
   "metadata": {},
   "outputs": [],
   "source": [
    "nd = np.array([1, 2, 3, 4, 5, 6, 7, 8, 9, 10])\n",
    "\n",
    "print(nd.shape)\n",
    "print(\"\\n2X5\")\n",
    "print(nd.reshape(2, 5))\n",
    "print(\"\\n5X2\")\n",
    "print(nd.reshape(5,2))"
   ]
  },
  {
   "cell_type": "markdown",
   "metadata": {},
   "source": [
    "np.arange()\n",
    "\n",
    "[start, end, step]"
   ]
  },
  {
   "cell_type": "code",
   "execution_count": null,
   "metadata": {},
   "outputs": [],
   "source": [
    "nd = np.arange(0, 10, 2)\n",
    "print(nd)"
   ]
  },
  {
   "cell_type": "markdown",
   "metadata": {},
   "source": [
    "Dizi elemanlarına erişim"
   ]
  },
  {
   "cell_type": "code",
   "execution_count": null,
   "metadata": {},
   "outputs": [],
   "source": [
    "#1-D dizilerde\n",
    "nd = np.arange(0, 11, 3)\n",
    "print(nd[2]) #2"
   ]
  },
  {
   "cell_type": "code",
   "execution_count": null,
   "metadata": {},
   "outputs": [],
   "source": [
    "#2-D dizilerde\n",
    "nd_2d = np.array([[1, 2, 0, 3, 4, 6], [4, 5, 7, 8, 4, 9]])\n",
    "print(nd_2d)\n",
    "\n",
    "#9 elemanına erişim\n",
    "print(nd_2d[1, 5]) #9\n",
    "\n",
    "#negatif indeksleme\n",
    "print(nd_2d[1, -1])"
   ]
  },
  {
   "cell_type": "code",
   "execution_count": null,
   "metadata": {},
   "outputs": [],
   "source": [
    "#3-D dizilerde \n",
    "nd_3d = np.array([[[1, 2, 3], [4, 6, 7]],[[3, 4, 6], [6, 7, 8]]])\n",
    "\n",
    "print(nd_3d)\n",
    "print(nd_3d[0, 1, 2]) #7"
   ]
  },
  {
   "cell_type": "markdown",
   "metadata": {},
   "source": [
    "NumPy Slicing\n",
    "\n",
    "[start, end, step]"
   ]
  },
  {
   "cell_type": "code",
   "execution_count": null,
   "metadata": {},
   "outputs": [],
   "source": [
    "nd = np.array([1, 2, 3, 4, 5, 6, 7, 8, 9, 10])\n",
    "\n",
    "print(nd[:4])"
   ]
  },
  {
   "cell_type": "code",
   "execution_count": null,
   "metadata": {},
   "outputs": [],
   "source": [
    "nd_2d = np.array([[1, 2, 0, 3, 4, 6], [4, 5, 7, 8, 4, 9], [3, 5, 6, 8, 9, 0]])\n",
    "\n",
    "print(nd_2d[0:2, 1:4])"
   ]
  },
  {
   "cell_type": "code",
   "execution_count": null,
   "metadata": {},
   "outputs": [],
   "source": [
    "print(nd_2d.dtype)"
   ]
  },
  {
   "cell_type": "markdown",
   "metadata": {},
   "source": [
    "0 matrisi oluşturma -> np.zeros()"
   ]
  },
  {
   "cell_type": "code",
   "execution_count": null,
   "metadata": {},
   "outputs": [],
   "source": [
    "print(np.zeros((4, 5)))"
   ]
  },
  {
   "cell_type": "markdown",
   "metadata": {},
   "source": [
    "1'lerden oluşan matris oluşturma -> np.ones()"
   ]
  },
  {
   "cell_type": "code",
   "execution_count": null,
   "metadata": {},
   "outputs": [],
   "source": [
    "print(np.ones((4, 5)))"
   ]
  },
  {
   "cell_type": "markdown",
   "metadata": {},
   "source": [
    "np.eye() -> Belirlenen boyutlarda birim matris oluşturmamızı sağlar"
   ]
  },
  {
   "cell_type": "code",
   "execution_count": null,
   "metadata": {},
   "outputs": [],
   "source": [
    "print(np.eye(5)) #print(np.eye(5, 5))"
   ]
  },
  {
   "cell_type": "markdown",
   "metadata": {},
   "source": [
    "np.random() -> İstenilen boyutta bir dizi oluşturur ve bu diziyi 0 ve 1 aralığında rastgele sayılar ile doldurur."
   ]
  },
  {
   "cell_type": "code",
   "execution_count": null,
   "metadata": {},
   "outputs": [],
   "source": [
    "nd = np.random((3,2))\n",
    "\n",
    "nd"
   ]
  },
  {
   "cell_type": "markdown",
   "metadata": {},
   "source": [
    "linspace() -> İki değer arasında eşit oranlı değer oluşturur."
   ]
  },
  {
   "cell_type": "code",
   "execution_count": null,
   "metadata": {},
   "outputs": [],
   "source": [
    "nd = np.linspace(5, 6, num = 5)\n",
    "#nd = np.linspace(5, 6, 5)\n",
    "\n",
    "nd"
   ]
  },
  {
   "cell_type": "code",
   "execution_count": null,
   "metadata": {},
   "outputs": [],
   "source": [
    "#num kullanılmadan da yazılabilir\n",
    "nd = np.linspace(5, 6, 5)\n",
    "\n",
    "nd"
   ]
  },
  {
   "cell_type": "code",
   "execution_count": null,
   "metadata": {},
   "outputs": [],
   "source": [
    "#Bitiş değerini dahil etmek istemezsek endpoint = False'u kullanırız\n",
    "nd = np.linspace(5, 6, 5, endpoint = False)\n",
    "\n",
    "nd"
   ]
  },
  {
   "cell_type": "markdown",
   "metadata": {},
   "source": [
    "full() -> İstenilen satır ve sütünda bir matrisi istediğimiz değer ile doldurur. 2 parametre alır; ilk parametre kaça kaç olacağı ikinci parametre de hangi değerle doldurulacağı bilgisini tutar."
   ]
  },
  {
   "cell_type": "code",
   "execution_count": null,
   "metadata": {},
   "outputs": [],
   "source": [
    "nd = np.full((3, 4), 8)\n",
    "\n",
    "nd"
   ]
  },
  {
   "cell_type": "markdown",
   "metadata": {},
   "source": [
    "all() -> Tüm elemanların verilen şartı sağlayıp sağlamadığını kontrol etmek için kullanırız."
   ]
  },
  {
   "cell_type": "code",
   "execution_count": null,
   "metadata": {},
   "outputs": [],
   "source": [
    "nd = np.aray([1, 2, 34, 5, 6])\n",
    "\n",
    "np.all(nd > 4) #True ya da False değer döndürür."
   ]
  },
  {
   "cell_type": "markdown",
   "metadata": {},
   "source": [
    "any() -> Herhangi bir elemanın verilen şartı sağlayıp sağlamadığını kontrol etmek için kullanılır."
   ]
  },
  {
   "cell_type": "code",
   "execution_count": null,
   "metadata": {},
   "outputs": [],
   "source": [
    "nd = np.aray([1, 2, -1, 5, 6])\n",
    "\n",
    "np.any(nd < 0) #True ya da False değer döndürür."
   ]
  },
  {
   "cell_type": "markdown",
   "metadata": {},
   "source": [
    "**Matrisleri Birleştirme** -> concatenate()"
   ]
  },
  {
   "cell_type": "code",
   "execution_count": null,
   "metadata": {},
   "outputs": [],
   "source": [
    "nd1 = np.array([1, 2, 3])\n",
    "nd2 = np.array([4, 5, 6])\n",
    "\n",
    "nd3 = np.concatenate([nd1, nd2])\n",
    "\n",
    "nd3"
   ]
  },
  {
   "cell_type": "markdown",
   "metadata": {},
   "source": [
    "2 numpy array + list"
   ]
  },
  {
   "cell_type": "code",
   "execution_count": null,
   "metadata": {},
   "outputs": [],
   "source": [
    "nd1 = np.array([1, 2, 3])\n",
    "nd2 = np.array([4, 5, 6])\n",
    "my_list = [1, 2, 3]\n",
    "\n",
    "nd3 = np.concatenate([nd1, nd2, my_list])\n",
    "\n",
    "nd3"
   ]
  },
  {
   "cell_type": "code",
   "execution_count": null,
   "metadata": {},
   "outputs": [],
   "source": [
    "nd1 = np.array([1, 2, 3])\n",
    "nd2 = np.array([4, 5, 6])\n",
    "\n",
    "#satır bazlı birleştirme\n",
    "print(np.concatenate([nd1, nd2]), axis = 0) #axis = 0 yazmak zorunda değiliz.\n",
    "\n",
    "#sütun bazlı birleştirme\n",
    "print(np.concatenate([nd1, nd2]), axis = 1)\n",
    "\n",
    "nd3"
   ]
  },
  {
   "cell_type": "markdown",
   "metadata": {},
   "source": [
    "**Numpy ile matematiksel işlemler**\n",
    "\n",
    "* sum\n",
    "* max\n",
    "* min\n",
    "* median\n",
    "* variance\n",
    "* standard deviation"
   ]
  },
  {
   "cell_type": "code",
   "execution_count": null,
   "metadata": {},
   "outputs": [],
   "source": [
    "my_list = [0, 1, 2, 3, 4, 5, 6, 7, 8, 9]\n",
    "\n",
    "nd = np.array(my_list)\n",
    "nd = nd.reshape(5, 2)\n",
    "\n",
    "nd"
   ]
  },
  {
   "cell_type": "markdown",
   "metadata": {},
   "source": [
    "sum()"
   ]
  },
  {
   "cell_type": "code",
   "execution_count": null,
   "metadata": {},
   "outputs": [],
   "source": [
    "print(\"Satır Bazlı Toplama: \", nd.sum(axis = 1))\n",
    "print(\"Sütun Bazlı Toplama: \", nd.sum(axis = 0))"
   ]
  },
  {
   "cell_type": "markdown",
   "metadata": {},
   "source": [
    "max()"
   ]
  },
  {
   "cell_type": "code",
   "execution_count": null,
   "metadata": {},
   "outputs": [],
   "source": [
    "print(nd.max())"
   ]
  },
  {
   "cell_type": "markdown",
   "metadata": {},
   "source": [
    "min()"
   ]
  },
  {
   "cell_type": "code",
   "execution_count": null,
   "metadata": {},
   "outputs": [],
   "source": [
    "print(nd.min())"
   ]
  },
  {
   "cell_type": "markdown",
   "metadata": {},
   "source": [
    "mean() -> Ortalama "
   ]
  },
  {
   "cell_type": "code",
   "execution_count": null,
   "metadata": {},
   "outputs": [],
   "source": [
    "print(nd.mean())"
   ]
  },
  {
   "cell_type": "markdown",
   "metadata": {},
   "source": [
    "standard deviation"
   ]
  },
  {
   "cell_type": "code",
   "execution_count": null,
   "metadata": {},
   "outputs": [],
   "source": [
    "print(nd.std())"
   ]
  },
  {
   "cell_type": "markdown",
   "metadata": {},
   "source": [
    "variance -> standard deviation karesi"
   ]
  },
  {
   "cell_type": "code",
   "execution_count": null,
   "metadata": {},
   "outputs": [],
   "source": [
    "print(nd.var())"
   ]
  },
  {
   "cell_type": "markdown",
   "metadata": {},
   "source": [
    "Aritmetik işlemler"
   ]
  },
  {
   "cell_type": "code",
   "execution_count": null,
   "metadata": {},
   "outputs": [],
   "source": [
    "nd1 = np.array([[1,2,0], [4,5,7]])\n",
    "nd2 = np.array([[3,4,6], [8,9,0]])"
   ]
  },
  {
   "cell_type": "code",
   "execution_count": null,
   "metadata": {},
   "outputs": [],
   "source": [
    "nd1"
   ]
  },
  {
   "cell_type": "code",
   "execution_count": null,
   "metadata": {},
   "outputs": [],
   "source": [
    "nd2"
   ]
  },
  {
   "cell_type": "markdown",
   "metadata": {},
   "source": [
    "Toplama işlemini + operatörü ve add metodu ile yaparız"
   ]
  },
  {
   "cell_type": "code",
   "execution_count": null,
   "metadata": {},
   "outputs": [],
   "source": [
    "print(nd1 + nd2)"
   ]
  },
  {
   "cell_type": "code",
   "execution_count": null,
   "metadata": {},
   "outputs": [],
   "source": [
    "print(np.add(nd1, nd2))"
   ]
  },
  {
   "cell_type": "markdown",
   "metadata": {},
   "source": [
    "Çıkarma işlemini - operatörü ve subtract metodu ile yaparız"
   ]
  },
  {
   "cell_type": "code",
   "execution_count": null,
   "metadata": {},
   "outputs": [],
   "source": [
    "print(nd2 - nd1)"
   ]
  },
  {
   "cell_type": "code",
   "execution_count": null,
   "metadata": {},
   "outputs": [],
   "source": [
    "print(np.subtract(nd2, nd1))"
   ]
  },
  {
   "cell_type": "markdown",
   "metadata": {},
   "source": [
    "Çarpma işlemini * operatörü ve multiply metodu ile yaparız"
   ]
  },
  {
   "cell_type": "code",
   "execution_count": null,
   "metadata": {},
   "outputs": [],
   "source": [
    "print(nd1 * nd2)"
   ]
  },
  {
   "cell_type": "code",
   "execution_count": null,
   "metadata": {},
   "outputs": [],
   "source": [
    "print(np.multiply(nd1, nd2))"
   ]
  },
  {
   "cell_type": "markdown",
   "metadata": {},
   "source": [
    "Bölme işlemini / operatörü ve divide metodu ile yaparız"
   ]
  },
  {
   "cell_type": "code",
   "execution_count": null,
   "metadata": {},
   "outputs": [],
   "source": [
    "print(nd2 / nd1)"
   ]
  },
  {
   "cell_type": "code",
   "execution_count": null,
   "metadata": {},
   "outputs": [],
   "source": [
    "print(np.divide(nd2, nd1))"
   ]
  },
  {
   "cell_type": "code",
   "execution_count": null,
   "metadata": {},
   "outputs": [],
   "source": [
    "nd = np.ones((3, 4))\n",
    "\n",
    "nd * 4"
   ]
  },
  {
   "cell_type": "markdown",
   "metadata": {},
   "source": [
    "Matrislerin çarpımı\n",
    "\n",
    "@ ve dot fonksiyonunu kullanıyoruz. Unutulmaması gereken nokta; ilk matrisin sütün sayısı ikinci matrisin satır sayısına eşit olmalıdır."
   ]
  },
  {
   "cell_type": "code",
   "execution_count": null,
   "metadata": {},
   "outputs": [],
   "source": [
    "nd = np.arange(0, 10)\n",
    "nd1 = nd.reshape(5, 2)\n",
    "nd2 = nd.reshape(2, 5)\n",
    "\n",
    "nd"
   ]
  },
  {
   "cell_type": "code",
   "execution_count": null,
   "metadata": {},
   "outputs": [],
   "source": [
    "nd1"
   ]
  },
  {
   "cell_type": "code",
   "execution_count": null,
   "metadata": {},
   "outputs": [],
   "source": [
    "nd2"
   ]
  },
  {
   "cell_type": "code",
   "execution_count": null,
   "metadata": {},
   "outputs": [],
   "source": [
    "print(np.dot(nd1, nd2))"
   ]
  },
  {
   "cell_type": "code",
   "execution_count": null,
   "metadata": {},
   "outputs": [],
   "source": [
    "print(nd1@nd2)"
   ]
  },
  {
   "cell_type": "code",
   "execution_count": null,
   "metadata": {},
   "outputs": [],
   "source": [
    "np.matmul(nd1, nd2)"
   ]
  },
  {
   "cell_type": "markdown",
   "metadata": {},
   "source": [
    "Matrisin Transpozu -> satırları sütun, sütunları satır yapma işlemi"
   ]
  },
  {
   "cell_type": "code",
   "execution_count": null,
   "metadata": {},
   "outputs": [],
   "source": [
    "nd = np.arange(0, 10)\n",
    "nd1 = nd.reshape(5, 2)\n",
    "\n",
    "nd1"
   ]
  },
  {
   "cell_type": "code",
   "execution_count": null,
   "metadata": {},
   "outputs": [],
   "source": [
    "nd_3d = np.array([[[1, 2, 3, 4, 6, 7, 8], [1, 2, 3, 4, 6, 7, 8]],[[1, 2, 3, 4, 6, 7, 8], [1, 2, 3, 4, 6, 7, 8]]])\n",
    "\n",
    "nd_3d"
   ]
  },
  {
   "cell_type": "code",
   "execution_count": null,
   "metadata": {},
   "outputs": [],
   "source": [
    "nd_3d.T"
   ]
  },
  {
   "cell_type": "markdown",
   "metadata": {},
   "source": [
    "Kopyalama -> copy()"
   ]
  },
  {
   "cell_type": "code",
   "execution_count": null,
   "metadata": {},
   "outputs": [],
   "source": [
    "nd = np.array([1,2,3,4])\n",
    "print(\"Orijinal Dizi:\\n\", nd)\n",
    "\n",
    "nd_copy = nd.copy()\n",
    "print(nd_copy)"
   ]
  },
  {
   "cell_type": "markdown",
   "metadata": {},
   "source": [
    "Numpy Dizileri Üzerinde Döngüler"
   ]
  },
  {
   "cell_type": "code",
   "execution_count": null,
   "metadata": {},
   "outputs": [],
   "source": [
    "nd = np.array([1,2,3,4])\n",
    "nd1 = nd.reshape(5, 2)\n",
    "\n",
    "for i in nd1:\n",
    "    print(i)\n",
    "    for j in i:\n",
    "        print(j)"
   ]
  },
  {
   "cell_type": "code",
   "execution_count": null,
   "metadata": {},
   "outputs": [],
   "source": [
    "nd_3d = np.array([[[1, 2, 3, 4, 6, 7, 8], [1, 2, 3, 4, 6, 7, 8]],[[1, 2, 3, 4, 6, 7, 8], [1, 2, 3, 4, 6, 7, 8]]])\n",
    "\n",
    "for i in np.nditer(nd_3d):\n",
    "    print(i)\n",
    "    for j in i:\n",
    "        print(j)"
   ]
  },
  {
   "cell_type": "markdown",
   "metadata": {},
   "source": [
    "[4, 37] arasında 3lü artacak şekilde bir dizi oluştur. bu dizi içerisindeki tek sayıları ekrana bastıralım."
   ]
  },
  {
   "cell_type": "code",
   "execution_count": null,
   "metadata": {},
   "outputs": [],
   "source": [
    "nd = np.arange(4, 38, 3)\n",
    "print(nd)\n",
    "\n",
    "for i in nd:\n",
    "    if i % 2 != 0:\n",
    "        print(i)"
   ]
  }
 ],
 "metadata": {
  "kernelspec": {
   "display_name": "Python 3.10.5 64-bit (windows store)",
   "language": "python",
   "name": "python3"
  },
  "language_info": {
   "name": "python",
   "version": "3.10.5"
  },
  "orig_nbformat": 4,
  "vscode": {
   "interpreter": {
    "hash": "3b5aeedf5bfc3a00fce61d61bb60f5e1e29a742a67792eb3f9b52690462ade10"
   }
  }
 },
 "nbformat": 4,
 "nbformat_minor": 2
}
