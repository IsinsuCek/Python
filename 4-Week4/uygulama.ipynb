{
 "cells": [
  {
   "cell_type": "code",
   "execution_count": null,
   "metadata": {},
   "outputs": [],
   "source": [
    "isimler = ['Esra','Sare','Ali','Sevval','Murat','Betul']\n",
    "yaslar = [34,25,7,4,42,26]\n",
    "sehirler = ['Mugla','Izmir','Istanbul','Ankara','Eskisehir','Canakkale']\n",
    "\n",
    "minLenght = min(len(isimler),len(yaslar),len(sehirler))\n",
    "newList = []\n",
    "\n",
    "for i in range(minLenght):\n",
    "    tempTuple = isimler[i],yaslar[i],sehirler[i]\n",
    "    newList.append(tempTuple)\n",
    "\n",
    "print(list(map(lambda isim,yas,sehir: (isim,yas,sehir),isimler,yaslar,sehirler)))"
   ]
  },
  {
   "cell_type": "code",
   "execution_count": null,
   "metadata": {},
   "outputs": [],
   "source": [
    "givenTuple = (\"String Ifade\", 1, 2, 3,[1, 2, 3, 4],['a','b','c','d','e'])\n",
    "\n",
    "for i in range(len(givenTuple)):\n",
    "    print(type(givenTuple[i]))\n",
    "    currentTupleItem = givenTuple[i]\n",
    "    if (type(currentTupleItem) is list and len(list(filter(lambda item: type(item) == int, currentTupleItem))) == len(currentTupleItem)):\n",
    "        for j in range(len(currentTupleItem)):\n",
    "            givenTuple[i][j] = currentTupleItem[j] ** 2\n",
    "    elif (type(currentTupleItem) is list and len(list(filter(lambda item: type(item) == str, currentTupleItem))) == len(currentTupleItem)):\n",
    "        mergedString = ''\n",
    "        for k in currentTupleItem:\n",
    "            \n",
    "            mergedString += k\n",
    "\n",
    "        del givenTuple[i][1:len(currentTupleItem)]\n",
    "        givenTuple[i][0] = mergedString\n",
    "\n",
    "print(givenTuple)\n"
   ]
  },
  {
   "cell_type": "code",
   "execution_count": null,
   "metadata": {},
   "outputs": [],
   "source": [
    "givenTuple = ('s',[1,2,3,4],'i','s','t','e','rs','lab','la','b','s','rs','lab','t',1,'a','a',2,3,4,5,3,1,2,[1,2,3,4])\n",
    "temp = ''\n",
    "for i in range(len(givenTuple)):\n",
    "    temp = givenTuple[i]\n",
    "    print(temp ,' - ',givenTuple.count(temp))"
   ]
  },
  {
   "cell_type": "code",
   "execution_count": null,
   "metadata": {},
   "outputs": [],
   "source": [
    "coastCities = ['İstanbul','Çanakkale','İzmir','Antalya']\n",
    "\n",
    "# (Ad,Soyad,Yaş,Şehir,Aylık Maaş,Yıllık Maaş Sayısı)\n",
    "#   0   1    2    3        4              5 \n",
    "data = [('Simay Ceren','Bozada','İstanbul',10500,15)\n",
    "       ,('Elvan','Uzun','Çanakkale',12000,15)\n",
    "       ,('Işınsu','Çek','İzmir',20000,12)\n",
    "       ,('Ayse','Aktağ','İzmir',15000,12)\n",
    "       ,('Nurefşan','Ak','Çanakkale',14500,13)\n",
    "       ,('Elif','Çelik','Ankara',18000,11)\n",
    "       ,('Aylin','Sağlam','Ankara',10500,12)\n",
    "       ,('Ceydanur','İlhan','Antalya',12000,12)\n",
    "       ,('Sevda','Şanver','Çanakkale',22000,12)\n",
    "       ,('Emre','Gelen','İstanbul',9000,15)]\n",
    "\n",
    "print(list(filter(lambda item: item[2] in coastCities , data)))\n",
    "print(list(filter(lambda item: item[2] not in coastCities,data )))\n",
    "print(list(filter(lambda item: 'e' in item[0].lower(),data)))\n",
    "print(list(filter(lambda item: item[0].lower().startswith('s'), data)))\n",
    "print(list(filter((lambda item: (item[0].lower().startswith('s')) or (item[1].lower().startswith('s')), data))))\n",
    "print(list(filter(lambda item: item[0].lower().endswith('e') or item[1].lower().startswith('ç'),data )))\n",
    "print(list(filter(lambda item: item[3] < 10000, data)))\n",
    "print(list(filter(lambda item: item[3] < 13000 and item[3]*item[4] >150000 , data)))\n",
    "print(list(map(lambda item: (item[0],item[1],item[2],item[3],item[4],item[3]*item[4]),data)))"
   ]
  }
 ],
 "metadata": {
  "language_info": {
   "name": "python"
  },
  "orig_nbformat": 4
 },
 "nbformat": 4,
 "nbformat_minor": 2
}
