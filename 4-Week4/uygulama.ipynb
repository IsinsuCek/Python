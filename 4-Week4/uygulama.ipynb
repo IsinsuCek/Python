{
 "cells": [
  {
   "cell_type": "markdown",
   "metadata": {},
   "source": [
    "**Soru 1**\n"
   ]
  },
  {
   "cell_type": "code",
   "execution_count": null,
   "metadata": {},
   "outputs": [],
   "source": [
    "liste1 = [1,2,3,4,'True',True,64,21,1,2]\n",
    "liste2 = [True,20,21,22,4]\n",
    "\n",
    "liste1 = set(liste1)\n",
    "liste2 = set(liste2)\n",
    "\n",
    "liste3 = liste1.union(liste2)\n",
    "print(liste3)\n"
   ]
  },
  {
   "cell_type": "markdown",
   "metadata": {},
   "source": [
    "**Soru 2**\n"
   ]
  },
  {
   "cell_type": "code",
   "execution_count": null,
   "metadata": {},
   "outputs": [],
   "source": [
    "set1 = {1, 2, 3, 4, 'True', True, 64, 21, 1, 2}\n",
    "set2 = {True, 20,21,22,4}\n",
    "\n",
    "ortak  = set1.intersection(set2)\n",
    "farkli = set1.symmetric_difference(set2)\n",
    "\n",
    "print(\"ortak: \",list(ortak))\n",
    "print(\"farkli: \",list(farkli))"
   ]
  },
  {
   "cell_type": "markdown",
   "metadata": {},
   "source": [
    "**Soru 3**"
   ]
  },
  {
   "cell_type": "code",
   "execution_count": null,
   "metadata": {},
   "outputs": [],
   "source": [
    "ciftToplam = 0\n",
    "tekToplam = 0\n",
    "for sayi in range(100):\n",
    "    if sayi % 2 == 0:\n",
    "        ciftToplam += sayi\n",
    "    else : \n",
    "        tekToplam += sayi\n",
    "    \n",
    "\n",
    "result_dictionary = {True: ciftToplam, False: tekToplam}\n",
    "\n",
    "print(result_dictionary)"
   ]
  },
  {
   "cell_type": "markdown",
   "metadata": {},
   "source": [
    "**Soru 4**"
   ]
  },
  {
   "cell_type": "code",
   "execution_count": null,
   "metadata": {},
   "outputs": [],
   "source": [
    "isimler = ['Esra', 'Ezgi', 'Caner', 'Sinan', 'Sevval', 'Sare', 'Merve', 'Murat']\n",
    "yaslar = [22, 26, 28, 34, 32, 19, 21, 20]\n",
    "\n",
    "bilgiler = dict(zip(isimler,yaslar))\n",
    "print(bilgiler)"
   ]
  },
  {
   "cell_type": "markdown",
   "metadata": {},
   "source": [
    "**Soru 5**\n"
   ]
  },
  {
   "cell_type": "code",
   "execution_count": null,
   "metadata": {},
   "outputs": [],
   "source": [
    "def yasi_kac(name):\n",
    "    for key, value in bilgiler.items():\n",
    "        if key == name:\n",
    "            print(value)\n",
    "yasi_kac('Sinan')\n"
   ]
  },
  {
   "cell_type": "markdown",
   "metadata": {},
   "source": [
    "**Soru 6**"
   ]
  },
  {
   "cell_type": "code",
   "execution_count": null,
   "metadata": {},
   "outputs": [],
   "source": [
    "bilgiler = {}\n",
    "for i in range(len(isim)):\n",
    "    bilgiler.update({isim[i]: [yas[i], sehir[i], bolum[i], okul[i]]})\n",
    "print(bilgiler)\n"
   ]
  },
  {
   "cell_type": "markdown",
   "metadata": {},
   "source": [
    "**Soru 7**"
   ]
  },
  {
   "cell_type": "code",
   "execution_count": null,
   "metadata": {},
   "outputs": [],
   "source": [
    "def bilgiye_ulas(name, bilgi_tipi):\n",
    "    for key, value in bilgiler.items():\n",
    "        if key == name:\n",
    "            if  bilgi_tipi == \"yas\":\n",
    "                print(bilgiler[name][0])\n",
    "            elif bilgi_tipi == \"sehir\":\n",
    "                print(bilgiler[name][1])\n",
    "            elif bilgi_tipi == \"bolum\":\n",
    "                print(bilgiler[name][2])\n",
    "            elif bilgi_tipi == \"okul\":\n",
    "                print(bilgiler[name][3])\n",
    "            \n",
    "bilgiye_ulas(\"Caner\", \"okul\")\n"
   ]
  },
  {
   "cell_type": "markdown",
   "metadata": {},
   "source": [
    "**Soru 8**"
   ]
  },
  {
   "cell_type": "code",
   "execution_count": null,
   "metadata": {},
   "outputs": [],
   "source": [
    "def check_duplicate(liste): \n",
    " if len(liste) == len(set(liste)):\n",
    "    return False\n",
    " else:\n",
    "    return True\n",
    "\n",
    "print(check_duplicate([1,3,4,7,8,3,2,54]))\n",
    "\n",
    "\n",
    "\n"
   ]
  },
  {
   "cell_type": "markdown",
   "metadata": {},
   "source": [
    "**Soru 9**"
   ]
  },
  {
   "cell_type": "code",
   "execution_count": null,
   "metadata": {},
   "outputs": [],
   "source": [
    "def find_single(list):\n",
    "   my_set = set(list)\n",
    "   print(my_set)\n",
    "find_single([125, 46, 1, 14, 14, 25, 46, 25, 1])"
   ]
  },
  {
   "cell_type": "markdown",
   "metadata": {},
   "source": [
    "**Soru 10**"
   ]
  },
  {
   "cell_type": "code",
   "execution_count": null,
   "metadata": {},
   "outputs": [],
   "source": [
    "\n",
    "def cumulative_dictionary(list):\n",
    "    my_dictionary = {}\n",
    "    count = 0\n",
    "    \n",
    "\n",
    "    for i in range(len(list)):\n",
    "        count = count + list[i]\n",
    "        my_dictionary[i] = count\n",
    "\n",
    "    print(my_dictionary)    \n",
    "\n",
    "        \n",
    "cumulative_dictionary([5,15,20,25,35,45,55,100,200,300])\n"
   ]
  },
  {
   "cell_type": "markdown",
   "metadata": {},
   "source": [
    "**Soru 11**"
   ]
  },
  {
   "cell_type": "code",
   "execution_count": null,
   "metadata": {},
   "outputs": [],
   "source": [
    "def frequencies(my_string):\n",
    "  my_dictionary = {}\n",
    "  for i in my_string:\n",
    "    my_dictionary[i] = my_string.count(i)\n",
    "  return(my_dictionary)\n",
    "print(frequencies('sisterslab2022'))\n"
   ]
  }
 ],
 "metadata": {
  "language_info": {
   "name": "python"
  },
  "orig_nbformat": 4
 },
 "nbformat": 4,
 "nbformat_minor": 2
}
