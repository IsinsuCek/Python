{
 "cells": [
  {
   "cell_type": "markdown",
   "metadata": {},
   "source": [
    "**Temel Dosya İşlemleri**\n",
    "\n",
    "* Bir dosyayı açma\n",
    "* Bir dosyadan veri okuma\n",
    "* Dosya içine veri yazma\n",
    "* Dosyayı kapatma"
   ]
  },
  {
   "cell_type": "markdown",
   "metadata": {},
   "source": [
    "Dosya Oluşturma -> open(\"dosya_yolu\", \"erişim_modu\")\n",
    "\n",
    "**w** dosyaya veri yazmada kullanılır. Bir dosya zaten varsa dosyanın üzerine yazar\n",
    "\n",
    "**a** ekleme modunda sosya açılır ve dosyanın sonuna yeni veriler eklenir.\n"
   ]
  },
  {
   "cell_type": "code",
   "execution_count": null,
   "metadata": {},
   "outputs": [],
   "source": [
    "f = open(\"names.txt\", \"W\")\n",
    "f.write(\"Elvan\")\n",
    "f.close()"
   ]
  },
  {
   "cell_type": "code",
   "execution_count": null,
   "metadata": {},
   "outputs": [],
   "source": [
    "my_list = [\"Ayşe\",\"Ceyda\",\"Ceren\"]\n",
    "\n",
    "f = open(\"names.txt\", \"a\")\n",
    "for i in my_list:\n",
    "    f.write(i)\n",
    "f.close()"
   ]
  }
 ],
 "metadata": {
  "kernelspec": {
   "display_name": "Python 3.10.5 64-bit (windows store)",
   "language": "python",
   "name": "python3"
  },
  "language_info": {
   "name": "python",
   "version": "3.10.5"
  },
  "orig_nbformat": 4,
  "vscode": {
   "interpreter": {
    "hash": "3b5aeedf5bfc3a00fce61d61bb60f5e1e29a742a67792eb3f9b52690462ade10"
   }
  }
 },
 "nbformat": 4,
 "nbformat_minor": 2
}
