{
 "cells": [
  {
   "cell_type": "markdown",
   "metadata": {},
   "source": [
    "**Soru1**"
   ]
  },
  {
   "cell_type": "code",
   "execution_count": null,
   "metadata": {},
   "outputs": [],
   "source": [
    "callCountPrices = {2 : 3\n",
    "                  ,3 : 4\n",
    "                  ,4 : 6}\n",
    "\n",
    "class Phone:\n",
    "    __note = 0\n",
    "    __counter = 0\n",
    "\n",
    "    def __init__(self, ownerName, callCount):\n",
    "        self.__ownerName = ownerName\n",
    "        self.__callCount = callCount\n",
    "    def show(self):\n",
    "        print(f'Owner Name: {self.__ownerName} Credit: {self.__callCount} Bill: {self.__note}')\n",
    "    \n",
    "    def call_some_one(self, callingPerson):\n",
    "        if type(callingPerson) is Phone:\n",
    "            self.__callCount -= 1\n",
    "            if self.__callCount == 0:\n",
    "                print(\"Arama Hakkı Bitti\")\n",
    "            elif self.__callCount < 0:\n",
    "                self.__counter += 1\n",
    "                self.__note += 2 ** self.__counter\n",
    "            else:\n",
    "                print(f'{self.__ownerName} is calling {callingPerson.__ownerName}')\n",
    "    def get_credit(self, credit):\n",
    "        if credit in callCountPrices:\n",
    "            self.__callCount += credit\n",
    "            self.__note += callCountPrices[credit]\n",
    "    \n",
    "\n",
    "        \n",
    "\n",
    "phone1 = Phone('Emre', 10)\n",
    "phone2 = Phone('Azra', 5)\n",
    "\n",
    "phone1.call_some_one(phone2)\n",
    "phone1.get_credit(2)\n",
    "phone1.show()"
   ]
  },
  {
   "cell_type": "markdown",
   "metadata": {},
   "source": [
    "**Soru2**"
   ]
  },
  {
   "cell_type": "code",
   "execution_count": null,
   "metadata": {},
   "outputs": [],
   "source": [
    "persons = []\n",
    "class Employee:\n",
    "    def __init__(self, name_surname, gender, age, company, experience, salary):\n",
    "         self.name_surname = name_surname\n",
    "         self.gender = gender\n",
    "         self.age = age\n",
    "         self.company = company\n",
    "         self.experience = experience\n",
    "         self.salary = salary\n",
    "    def show(self):\n",
    "        print(f'Name&Surname: {self.name_surname} Gender: {self.gender} Age: {self.age} Company: {self.company} Experience: {self.experience} Salary:{self.salary}')\n",
    "\n",
    "\n",
    "\n",
    "with open('sampleData (1).txt', 'r') as file:\n",
    "    fileLines = file.readlines()\n",
    "    print(fileLines)\n",
    "    \n",
    "    for line in fileLines:\n",
    "        name_surname, gender, age, company, experience, salary = line.split(';')\n",
    "        persons.append(Employee(name_surname, gender, age, company, experience, salary))\n",
    "persons[0].show()"
   ]
  }
 ],
 "metadata": {
  "language_info": {
   "name": "python"
  },
  "orig_nbformat": 4
 },
 "nbformat": 4,
 "nbformat_minor": 2
}
