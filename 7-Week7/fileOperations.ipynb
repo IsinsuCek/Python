{
 "cells": [
  {
   "cell_type": "markdown",
   "metadata": {},
   "source": [
    "**Temel Dosya İşlemleri**\n",
    "\n",
    "* Bir dosyayı açma\n",
    "* Bir dosyadan veri okuma\n",
    "* Dosya içine veri yazma\n",
    "* Dosyayı kapatma"
   ]
  },
  {
   "cell_type": "markdown",
   "metadata": {},
   "source": [
    "Dosya Oluşturma -> open(\"dosya_yolu\", \"erişim_modu\")\n",
    "\n",
    "**w** dosyaya veri yazmada kullanılır. Bir dosya zaten varsa dosyanın üzerine yazar\n",
    "\n",
    "**a** ekleme modunda sosya açılır ve dosyanın sonuna yeni veriler eklenir.\n"
   ]
  },
  {
   "cell_type": "code",
   "execution_count": null,
   "metadata": {},
   "outputs": [],
   "source": [
    "f = open(\"names.txt\", \"w\")\n",
    "f.write(\"Elvan\")\n",
    "f.close()"
   ]
  },
  {
   "cell_type": "code",
   "execution_count": null,
   "metadata": {},
   "outputs": [],
   "source": [
    "my_list = [\"Ayşe\",\"Ceyda\",\"Ceren\"]\n",
    "\n",
    "f = open(\"names.txt\", \"a\")\n",
    "for i in my_list:\n",
    "    f.write(i + \"\\n\")\n",
    "f.close()"
   ]
  },
  {
   "cell_type": "code",
   "execution_count": null,
   "metadata": {},
   "outputs": [],
   "source": [
    "import os #Dosyayı listeleme ve varlığını kontrol etmede kullanılır\n",
    "\n",
    "print(os.listdir()) #Çalışılan dizindeki dosyaları gösterir\n",
    "print(os.path.isfile(\"names.txt\")) #bir dosyanın o dizinde olup olmadığını kontrol eder"
   ]
  },
  {
   "cell_type": "code",
   "execution_count": null,
   "metadata": {},
   "outputs": [],
   "source": [
    "f = open(r\"C:\\Users\\Işınsu\\Desktop\\python\", \"w\")\n",
    "for i in range(10):\n",
    "    f.write(\"Python\\n\")\n",
    "f.close()"
   ]
  },
  {
   "cell_type": "markdown",
   "metadata": {},
   "source": [
    "**with open**"
   ]
  },
  {
   "cell_type": "code",
   "execution_count": null,
   "metadata": {},
   "outputs": [],
   "source": [
    "from datetime import datetime as dt\n",
    "\n",
    "x = dt.now()\n",
    "print(\"Tarih\", x)\n",
    "\n",
    "#gün, ay, yıl\n",
    "file_name = x.strftime(\"%d-%m-%y.txt\")\n",
    "print(file_name)\n",
    "with open(file_name, \"w\") as f:\n",
    "    f.write(\"Gün, Ay, Yıl şeklinde tanımlama yapılmıştır.\")\n",
    "\n",
    "#gün, ay, yıl, saat, dakika, saniye\n",
    "file_name2 = x.strftime(\"%d-%m-%Y-%H-%M-%S.txt\")\n",
    "print(file_name2)\n",
    "with open(file_name2, \"w\") as f2:\n",
    "    f2.write(\"Gün, Ay, Yıl, Saat, Dakika, Saniye şeklinde tanımlanmıştır.\")"
   ]
  },
  {
   "cell_type": "markdown",
   "metadata": {},
   "source": [
    "**Dosya Okuma**"
   ]
  },
  {
   "cell_type": "code",
   "execution_count": null,
   "metadata": {},
   "outputs": [],
   "source": [
    "f = open(\"names.txt\", \"r\")\n",
    "print(f.read())\n",
    "f.close()"
   ]
  },
  {
   "cell_type": "code",
   "execution_count": null,
   "metadata": {},
   "outputs": [],
   "source": [
    "f = open(\"name.txt\", \"r\")\n",
    "print(f.read()) #FileNotFoundError hatası verir\n",
    "f.close() "
   ]
  },
  {
   "cell_type": "code",
   "execution_count": null,
   "metadata": {},
   "outputs": [],
   "source": [
    "import os\n",
    "\n",
    "if os.path.exists(\"name.txt\"):\n",
    "    f = open(\"name.txt\" , \"r\")\n",
    "    print(f.read())\n",
    "    f.close()\n",
    "else:\n",
    "    print(\"Dosya aranan dizinde bulunamadı.\")"
   ]
  },
  {
   "cell_type": "code",
   "execution_count": null,
   "metadata": {},
   "outputs": [],
   "source": [
    "\n",
    "with open(\"names.txt\" , \"r\") as f:\n",
    "     print(f.read)"
   ]
  },
  {
   "cell_type": "markdown",
   "metadata": {},
   "source": [
    "**Dosya Okuma Yöntemleri**\n",
    "\n",
    "readline() -> satır satır okuma işlemi için kullanılır."
   ]
  },
  {
   "cell_type": "code",
   "execution_count": null,
   "metadata": {},
   "outputs": [],
   "source": [
    "with open(\"names.txt\", \"r\") as f:\n",
    "    line  = f.readline() #dosyanın ilk satırını yazar\n",
    "    print(line)"
   ]
  },
  {
   "cell_type": "code",
   "execution_count": null,
   "metadata": {},
   "outputs": [],
   "source": [
    "with open(\"names.txt\", \"r\") as f:\n",
    "    lines = f.readlines() #tüm dosyayı okur ve liste şeklinde ekrana basar.\n",
    "    for item in lines:\n",
    "      print(lines)"
   ]
  },
  {
   "cell_type": "code",
   "execution_count": null,
   "metadata": {},
   "outputs": [],
   "source": [
    "with open(\"names.txt\", \"r\") as f:\n",
    "    print(f.read())\n",
    "    f.write(\"Nurcan\\n\") # Dosya yazma modunda açılmadığı için hata verir."
   ]
  },
  {
   "cell_type": "code",
   "execution_count": null,
   "metadata": {},
   "outputs": [],
   "source": [
    "with open(\"names.txt\", \"r+\") as f:\n",
    "    if os.path.exists(\"names.txt\"):\n",
    "      print(f.read())\n",
    "      f.write(\"Yagmur\\n\")\n",
    "    else:\n",
    "        print(\"Dosya dizinde bulunamadı.\")"
   ]
  },
  {
   "cell_type": "code",
   "execution_count": null,
   "metadata": {},
   "outputs": [],
   "source": [
    "# Bir dosyayı tersten okuma işlemi\n",
    "with open(\"names.txt\", \"r\") as f:\n",
    "    lines = f.readlines()\n",
    "    for line in reversed(lines):\n",
    "        print(line)"
   ]
  },
  {
   "cell_type": "markdown",
   "metadata": {},
   "source": [
    "**Dosya Yazma**\n",
    "\n",
    "* w -> Yazmak için bir dosya açar. Mevcut bir dosya varsa bunu açar ve üzerine yazarak devam eder. Dosya yoksa ilgili dizinde oluşturu ve yazar.\n",
    "* w+ -> Okuma ve yazma amacıyla dosya oluşturulur. r'dan farklı olarak ilgili dosyanın içeriğini silip yazmaya başlar.\n",
    "* a -> w ile aynı, sadece ilgili içeriği silmeden ekleme yapar.\n",
    "* a+ -> w+ gibi pkuma yazma amacıyla kullanılır. w+'dan farklı olarak içeriğin üzerine yazmaz, ekleme işlemi dosyanın sonuna ekleme ile yapılır.\n",
    "* r -> Okuma amaçlı kullanılır.\n",
    "* r+ -> Okuma ve yazma amaçlı kullanılır. Dosya ilgili dizinde yoksa hata verir. Yeni ekleme dosyanın sonuna yapılır."
   ]
  },
  {
   "cell_type": "code",
   "execution_count": null,
   "metadata": {},
   "outputs": [],
   "source": [
    "names = [\"\\nNurefsan,\\nAli\", \"\\nVeli\",\"\\nBuket\"]\n",
    "with open(\"names.txt\", \"a\") as f:\n",
    "    f.writelines(names)"
   ]
  },
  {
   "cell_type": "markdown",
   "metadata": {},
   "source": [
    "**Dosyada Arama**\n",
    "\n",
    " file.seek(imlec_konumu)\n",
    "\n",
    "* f.seek(8) - imceç 8 karakter ilerletilir\n",
    "* f.seek(0,2) -> imleci dosyanın sonuna götürmek için kullanılır.\n",
    "* f.seek(4,1) -> 1 ise dosya işaretçisinin geçerli konumunu koruyarak 4 karakter ilerle."
   ]
  },
  {
   "cell_type": "code",
   "execution_count": null,
   "metadata": {},
   "outputs": [],
   "source": [
    "with open(\"names.txt\" , \"r\") as f:\n",
    "    f.seek(2)\n",
    "    print(f.read())"
   ]
  },
  {
   "cell_type": "code",
   "execution_count": null,
   "metadata": {},
   "outputs": [],
   "source": [
    "with open(\"names.txt\" , \"r\") as f:\n",
    "    f.seek(0,2)\n",
    "    print(f.read())"
   ]
  },
  {
   "cell_type": "markdown",
   "metadata": {},
   "source": [
    "**Dosyayı Yeniden Adlandırma**"
   ]
  },
  {
   "cell_type": "code",
   "execution_count": null,
   "metadata": {},
   "outputs": [],
   "source": [
    "with open(\"namees.txt\", \"w\"):\n",
    "    f.write(\"Python\")"
   ]
  },
  {
   "cell_type": "code",
   "execution_count": null,
   "metadata": {},
   "outputs": [],
   "source": [
    "import os\n",
    "os.rename(\"namees.txt\", \"name_list.txt\")\n",
    "#namees.txt dosyasını bulamazsa hata verir"
   ]
  },
  {
   "cell_type": "code",
   "execution_count": null,
   "metadata": {},
   "outputs": [],
   "source": [
    "import os\n",
    "\n",
    "if os.path.exists(\"namees.txt\"):\n",
    "    os.rename(\"namees.txt\", \"name_list.txt\")\n",
    "else:\n",
    "    print(\"Dosya bulunamadı\")"
   ]
  },
  {
   "cell_type": "markdown",
   "metadata": {},
   "source": [
    "**Dosya Silme**"
   ]
  },
  {
   "cell_type": "code",
   "execution_count": null,
   "metadata": {},
   "outputs": [],
   "source": [
    "import os\n",
    "\n",
    "os.remove(\"name_list.txt\")"
   ]
  }
 ],
 "metadata": {
  "kernelspec": {
   "display_name": "Python 3.10.5 64-bit (windows store)",
   "language": "python",
   "name": "python3"
  },
  "language_info": {
   "name": "python",
   "version": "3.10.5"
  },
  "orig_nbformat": 4,
  "vscode": {
   "interpreter": {
    "hash": "3b5aeedf5bfc3a00fce61d61bb60f5e1e29a742a67792eb3f9b52690462ade10"
   }
  }
 },
 "nbformat": 4,
 "nbformat_minor": 2
}
