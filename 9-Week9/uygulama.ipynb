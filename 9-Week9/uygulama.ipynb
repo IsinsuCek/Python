{
 "cells": [
  {
   "cell_type": "markdown",
   "metadata": {},
   "source": [
    "**Soru 1**"
   ]
  },
  {
   "cell_type": "code",
   "execution_count": null,
   "metadata": {},
   "outputs": [],
   "source": [
    "import numpy as np\n",
    "\n",
    "nd = np.arange(30, 70)\n",
    "resizedArray = nd.reshape(4, 5, 2)\n",
    "print(resizedArray[:4,:5, 0])\n"
   ]
  },
  {
   "cell_type": "markdown",
   "metadata": {},
   "source": [
    "**Soru 2**"
   ]
  },
  {
   "cell_type": "code",
   "execution_count": null,
   "metadata": {},
   "outputs": [],
   "source": [
    "import numpy as np\n",
    "\n",
    "name = input(\"Name: \")\n",
    "surname = input(\"Surname: \")\n",
    "age = input(\"Age: \")\n",
    "code = input(\"City Code: \")\n",
    "\n",
    "arr = np.array([name, surname, age, code])\n",
    "print(arr.reshape(2,2))"
   ]
  },
  {
   "cell_type": "markdown",
   "metadata": {},
   "source": [
    "**Soru 3**"
   ]
  },
  {
   "cell_type": "code",
   "execution_count": null,
   "metadata": {},
   "outputs": [],
   "source": [
    "import numpy as np\n",
    "\n",
    "zeros = np.array([np.zeros(10), np.zeros(10), np.zeros(10)], ndmin = 3)\n",
    "zeros[:1,:3:2,:10:2] =1\n",
    "zeros[0, 1,1:10:2] = 1\n",
    "\n",
    "print(zeros)"
   ]
  },
  {
   "cell_type": "code",
   "execution_count": null,
   "metadata": {},
   "outputs": [],
   "source": [
    "import numpy as np\n",
    "\n",
    "zeros = np.array([np.zeros(10), np.zeros(10), np.zeros(10)], ndmin = 3)\n",
    "\n",
    "for i in range(3):\n",
    "    for j in range(10):\n",
    "        if (i + j) % 2 == 0:\n",
    "            zeros[0,i,j] = 1"
   ]
  },
  {
   "cell_type": "markdown",
   "metadata": {},
   "source": [
    "**Soru 4**"
   ]
  },
  {
   "cell_type": "code",
   "execution_count": null,
   "metadata": {},
   "outputs": [],
   "source": [
    "import numpy as np\n",
    "\n",
    "array2D = np.arange(0,25).reshape(5,5)\n",
    "\n",
    "rowCount, columnCount = array2D.shape\n",
    "\n",
    "for row in range(rowCount):\n",
    "    for column in range(columnCount):\n",
    "        if row == column:\n",
    "            array2D[row, column] = 1\n",
    "        else:\n",
    "            array2D[row, column] = 0\n",
    "print(array2D)"
   ]
  },
  {
   "cell_type": "markdown",
   "metadata": {},
   "source": [
    "**Soru 5**"
   ]
  },
  {
   "cell_type": "code",
   "execution_count": null,
   "metadata": {},
   "outputs": [],
   "source": [
    "import numpy as np\n",
    "\n",
    "my_array = np.arange(0, 500, 5)\n",
    "resized = my_array.reshape(4,5,5)\n",
    "\n",
    "for i in range(4):\n",
    "    for j in range(5):\n",
    "        for k in range(5):\n",
    "            if resized[i, j, k] % 6 == 0:\n",
    "                print(resized[i, j, k])\n",
    "    "
   ]
  },
  {
   "cell_type": "markdown",
   "metadata": {},
   "source": [
    "**Soru 6**"
   ]
  },
  {
   "cell_type": "code",
   "execution_count": null,
   "metadata": {},
   "outputs": [],
   "source": [
    "import numpy as np\n",
    "\n",
    "def search(arr, num):\n",
    "    row_count, column_count, depth = arr.shape\n",
    "\n",
    "    for row in range(row_count):\n",
    "        for column in range(column_count):\n",
    "            for dt in range(depth):\n",
    "                if arr[row, column, dt] == num:\n",
    "                    return row, column, dt\n",
    "    else:\n",
    "      return -1\n",
    "\n",
    "my_arr = np.arange(0, 500, 5)\n",
    "resize = my_arr.reshape(4,5,5)\n",
    "\n",
    "print(search(resize, 30))"
   ]
  }
 ],
 "metadata": {
  "kernelspec": {
   "display_name": "Python 3.10.5 64-bit (windows store)",
   "language": "python",
   "name": "python3"
  },
  "language_info": {
   "name": "python",
   "version": "3.10.5"
  },
  "orig_nbformat": 4,
  "vscode": {
   "interpreter": {
    "hash": "3b5aeedf5bfc3a00fce61d61bb60f5e1e29a742a67792eb3f9b52690462ade10"
   }
  }
 },
 "nbformat": 4,
 "nbformat_minor": 2
}
