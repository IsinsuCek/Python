{
 "cells": [
  {
   "cell_type": "markdown",
   "metadata": {},
   "source": [
    "**Dictionary**\n",
    "\n",
    "key-value\n",
    "\n",
    "* Unordered yani sıralı değillerdir. Index ile erişilemezler. Değerlere key üzerinden erişiriz.\n",
    "* Dictionary'ler değiştirilebilir. Ekleme çıkarma işlemine izin verilir. Key'in değeeini değiştirebiliriz.\n",
    "* {} parantezler ile tanımlanır. Key value çifti virgüllerle ayrılır.\n",
    "* Farklı veri tipleri içerebilir.\n",
    "* Key değerleri unique, value duplivate olabilir.\n",
    "\n",
    "\n",
    "my_dictionary = {\"name:\" \"Aysel\",}\n"
   ]
  },
  {
   "cell_type": "markdown",
   "metadata": {},
   "source": [
    "**Dictionary Oluşturma Yöntemleri**\n",
    "\n",
    "* {} -> key value çifti arasında : kullanırız ve her key value çifti , ile ayrılır.\n",
    "* dict()"
   ]
  },
  {
   "cell_type": "code",
   "execution_count": null,
   "metadata": {},
   "outputs": [],
   "source": [
    "#value -> Hepsi aynı türde olmak zorunda değil\n",
    "my_dict = {\"name\":\"Merve\", \"company\":\"SistersLab\", \"job\": \"Co-Founder\",\"age\": 23}\n",
    "print(my_dict)"
   ]
  },
  {
   "cell_type": "code",
   "execution_count": null,
   "metadata": {},
   "outputs": [],
   "source": [
    "#value kısmında bir lise de tutabiliriz.\n",
    "\n",
    "my_dict = {\"name\":\"Aysel\",\"titles\":[\"AI&ML Engineer, Android Dev.\"]}\n",
    "print(my_dict)"
   ]
  },
  {
   "cell_type": "markdown",
   "metadata": {},
   "source": [
    "**dict()**"
   ]
  },
  {
   "cell_type": "code",
   "execution_count": null,
   "metadata": {},
   "outputs": [],
   "source": [
    "my_dict = dict({\"name\":\"Nurcan\", \"age\":25})\n",
    "print(my_dict)"
   ]
  },
  {
   "cell_type": "markdown",
   "metadata": {},
   "source": [
    "**Empty Dictionary**\n"
   ]
  },
  {
   "cell_type": "code",
   "execution_count": null,
   "metadata": {},
   "outputs": [],
   "source": [
    "my_dict = {}\n",
    "print(my_dict)\n",
    "print(type(my_dict))"
   ]
  },
  {
   "cell_type": "markdown",
   "metadata": {},
   "source": [
    "**Dictionary Elemanlarına Erişim**\n",
    "\n",
    "* [key]\n",
    "* get(key)"
   ]
  },
  {
   "cell_type": "code",
   "execution_count": null,
   "metadata": {},
   "outputs": [],
   "source": [
    "my_dict = {1990: \"The Office\",1994: \"Friends\",1996: \"The Big Bang Theory\"}\n",
    "\n",
    "print(my_dict[1990])\n",
    "print(my_dict.get(1990))\n"
   ]
  },
  {
   "cell_type": "code",
   "execution_count": null,
   "metadata": {},
   "outputs": [],
   "source": [
    "my_dict = {1990: \"The Office\",1994: \"Friends\",1996: \"The Big Bang Theory\"}\n",
    "\n",
    "print(my_dict.keys())\n",
    "print(type(my_dict.keys()))"
   ]
  },
  {
   "cell_type": "code",
   "execution_count": null,
   "metadata": {},
   "outputs": [],
   "source": [
    "#value değerlerine erişim\n",
    "print(my_dict.values())\n",
    "print(type(my_dict.values()))"
   ]
  },
  {
   "cell_type": "code",
   "execution_count": null,
   "metadata": {},
   "outputs": [],
   "source": [
    "#key-value çiftine erişelim\n",
    "\n",
    "print(my_dict.items())\n",
    "print(type(my_dict.items()))"
   ]
  },
  {
   "cell_type": "code",
   "execution_count": null,
   "metadata": {},
   "outputs": [],
   "source": [
    "#items()\n",
    "\n",
    "for item in my_dict.items():\n",
    "    print(f\"key:{item[0]} ---- {item[1]}\")\n",
    "    "
   ]
  },
  {
   "cell_type": "markdown",
   "metadata": {},
   "source": [
    "Bir dictionary'nin uzunluğu"
   ]
  },
  {
   "cell_type": "code",
   "execution_count": null,
   "metadata": {},
   "outputs": [],
   "source": [
    "print(len(my_dict))"
   ]
  },
  {
   "cell_type": "markdown",
   "metadata": {},
   "source": [
    "Dictionary'ye eleman ekleme"
   ]
  },
  {
   "cell_type": "code",
   "execution_count": null,
   "metadata": {},
   "outputs": [],
   "source": [
    "#key-value ile ekleme\n",
    "my_dict = {1990: \"The Office\",1994: \"Friends\",1996: \"The Big Bang Theory\"}\n",
    "my_dict[1991] = \"Gilmore Girls\"\n",
    "\n",
    "print(my_dict)"
   ]
  },
  {
   "cell_type": "code",
   "execution_count": null,
   "metadata": {},
   "outputs": [],
   "source": [
    "#var olan key değerini ezip yeni değeri ekler\n",
    "my_dict[1990] = \"Doctor Who\"\n",
    "print(my_dict)"
   ]
  },
  {
   "cell_type": "code",
   "execution_count": null,
   "metadata": {},
   "outputs": [],
   "source": [
    "my_dict = {1990: \"The Office\",1994: \"Friends\",1996: \"The Big Bang Theory\"}\n",
    "my_dict.update({1991:\"Doctor Who\",1990:\"Gilmore Girls\"})\n",
    "\n",
    "print(my_dict)\n"
   ]
  },
  {
   "cell_type": "code",
   "execution_count": null,
   "metadata": {},
   "outputs": [],
   "source": [
    "my_books = {0: \"Serenad\", 1:\"Küçük Prens\",2:\"Demir Ökçe\"}\n",
    "\n",
    "my_books[1] = \"1984\"\n",
    "print(my_books)\n",
    "\n",
    "my_books.update({2:\"Harry Potter\"})\n",
    "print(my_books)"
   ]
  },
  {
   "cell_type": "markdown",
   "metadata": {},
   "source": [
    "**Silme İşlemleri**\n",
    "\n",
    "* del key\n",
    "* clear()\n",
    "* del dict_name\n",
    "* pop(key)\n",
    "* popitem()"
   ]
  },
  {
   "cell_type": "code",
   "execution_count": null,
   "metadata": {},
   "outputs": [],
   "source": [
    "#del key -> dictionary'deki key değerini alır ve siler\n",
    "my_info = {\"name\":\"Işınsu\",\"TC\":14719305170,\"year\":2022,\"job\":\"Student\"}\n",
    "print(my_info)\n",
    "\n",
    "del my_info[\"TC\"]\n",
    "print(my_info)"
   ]
  },
  {
   "cell_type": "markdown",
   "metadata": {},
   "source": [
    "**Soru 6**"
   ]
  },
  {
   "cell_type": "code",
   "execution_count": null,
   "metadata": {},
   "outputs": [],
   "source": [
    "bilgiler = {}\n",
    "for i in range(len(isim)):\n",
    "    bilgiler.update({isim[i]: [yas[i], sehir[i], bolum[i], okul[i]]})\n",
    "print(bilgiler)"
   ]
  }
 ],
 "metadata": {
  "language_info": {
   "name": "python"
  },
  "orig_nbformat": 4
 },
 "nbformat": 4,
 "nbformat_minor": 2
}
