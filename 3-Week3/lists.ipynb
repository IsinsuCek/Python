{
 "cells": [
  {
   "cell_type": "markdown",
   "metadata": {},
   "source": [
    "**Lambda**\n",
    "\n",
    "\n",
    "\n",
    "\n",
    "lambda arguments: expression"
   ]
  },
  {
   "cell_type": "code",
   "execution_count": null,
   "metadata": {},
   "outputs": [],
   "source": [
    "#Basitçe aldığı değeri 2 katı olarak dönen bir lambda fonksiyonu\n",
    "\n",
    "double = lambda x: x * 2\n",
    "print(double(10))"
   ]
  },
  {
   "cell_type": "code",
   "execution_count": null,
   "metadata": {},
   "outputs": [],
   "source": [
    "def double(x):\n",
    "    return x * 2\n",
    "\n",
    "print(double(10))"
   ]
  },
  {
   "cell_type": "code",
   "execution_count": null,
   "metadata": {},
   "outputs": [],
   "source": [
    "#default değer alabilir\n",
    "double = lambda x = 2:x * 2\n",
    "\n",
    "print(double(5)) #10\n",
    "print(double()) #4"
   ]
  },
  {
   "cell_type": "code",
   "execution_count": null,
   "metadata": {},
   "outputs": [],
   "source": [
    "max = lambda x, y: x if x > y else y\n",
    "print(max(1,2))"
   ]
  },
  {
   "cell_type": "code",
   "execution_count": null,
   "metadata": {},
   "outputs": [],
   "source": [
    "my_list = [1,2,3,4]\n",
    "\n",
    "new_list = lambda x: (i * 10 for i in x )\n",
    "print(list(new_list(my_list)))"
   ]
  },
  {
   "cell_type": "code",
   "execution_count": null,
   "metadata": {},
   "outputs": [],
   "source": [
    "my_list = [[2,6,4,1], [7,5,3,9]]\n",
    "\n",
    "sort_list = lambda x: (sorted(i) for i in x)\n",
    "\n",
    "print(list(sort_list(my_list)))"
   ]
  },
  {
   "cell_type": "markdown",
   "metadata": {},
   "source": [
    "filter() ile kullanımı"
   ]
  },
  {
   "cell_type": "code",
   "execution_count": null,
   "metadata": {},
   "outputs": [],
   "source": [
    "#bir listenin içerisinde yer alan tek sayıları ekrana basalım\n",
    "\n",
    "my_list = [1,2,3,4,5,6,7,8,9,0]\n",
    "new_list = filter(lambda x: x % 2 != 0,my_list)\n",
    "\n",
    "print(list(new_list))"
   ]
  },
  {
   "cell_type": "markdown",
   "metadata": {},
   "source": [
    "map() ile kullanımı"
   ]
  },
  {
   "cell_type": "code",
   "execution_count": null,
   "metadata": {},
   "outputs": [],
   "source": [
    "my_list = [1,2,3,4,5,6,7,8,9,0]\n",
    "new_list = list(map(lambda x: x % 2 != 0, my_list))\n",
    "\n",
    "print(new_list)"
   ]
  },
  {
   "cell_type": "code",
   "execution_count": null,
   "metadata": {},
   "outputs": [],
   "source": [
    "my_list = [1,2,3,4,5,6,7,8,9,0]\n",
    "new_list = list(map(lambda x: x * 2, my_list))\n",
    "\n",
    "print(new_list)"
   ]
  },
  {
   "cell_type": "code",
   "execution_count": null,
   "metadata": {},
   "outputs": [],
   "source": [
    "#map ile liste içindeki her ilk elemanın 3 katını geri döndüren kod\n",
    "A = [[1,2],[3,4],[5,6]]\n",
    "\n",
    "new_list = list(map(lambda x: x[0] * 3 , A))\n",
    "print(new_list(A))"
   ]
  },
  {
   "cell_type": "code",
   "execution_count": null,
   "metadata": {},
   "outputs": [],
   "source": [
    "my_list = [10,20,30,40,50]\n",
    "\n",
    "new_list = list(map(lambda y: y/10, filter(lambda x: x > 20,my_list)))\n",
    "\n",
    "print(new_list)"
   ]
  },
  {
   "cell_type": "code",
   "execution_count": null,
   "metadata": {},
   "outputs": [],
   "source": [
    "my_list = [\"python\", 20,10, True, 30, \"b\"]\n",
    "list(filter(lambda a: type(a) == int, my_list))"
   ]
  },
  {
   "cell_type": "code",
   "execution_count": null,
   "metadata": {},
   "outputs": [],
   "source": [
    "#string tipinde bir liste tanımla \n",
    "#ardından bunları büyük harfe çevir\n",
    "\n",
    "my_list = [\"Ceren\",\"Ceyda\",\"Buket\"]\n",
    "list(map(lambda x: x.upper(),my_list))"
   ]
  },
  {
   "cell_type": "code",
   "execution_count": null,
   "metadata": {},
   "outputs": [],
   "source": [
    "my_list = [\"merve\",\"nihal\",\"hilal\"]\n",
    "list(map(lambda x: x.capitalize(),my_list))"
   ]
  },
  {
   "cell_type": "markdown",
   "metadata": {},
   "source": [
    "**Listeler**"
   ]
  },
  {
   "cell_type": "code",
   "execution_count": null,
   "metadata": {},
   "outputs": [],
   "source": [
    "list_int = [1,2,5,6,0,1]"
   ]
  },
  {
   "cell_type": "code",
   "execution_count": null,
   "metadata": {},
   "outputs": [],
   "source": [
    "my_list = [1,2,4,5,7,9,10,12,17]\n",
    "print(my_list)\n",
    "\n",
    "my_list[1:4] = [0,0,0]\n",
    "print(my_list)\n"
   ]
  },
  {
   "cell_type": "code",
   "execution_count": null,
   "metadata": {},
   "outputs": [],
   "source": [
    "my_list = [1,2,4,5,7,9,10,12,17]\n",
    "\n",
    "my_list[:-4:-1] = [0,0,0]\n",
    "\n",
    "print(my_list)"
   ]
  },
  {
   "cell_type": "code",
   "execution_count": null,
   "metadata": {},
   "outputs": [],
   "source": [
    "my_list = [1,2,4,5,7,9,10,12,17]\n",
    "for i in range(0,len(my_list)):\n",
    "    my_list[i] = my_list[i] + 1\n",
    "print(my_list)"
   ]
  },
  {
   "cell_type": "markdown",
   "metadata": {},
   "source": [
    "Listeden eleman silme:\n",
    "\n",
    "*remove()\n",
    "\n",
    "*pop()\n",
    "\n",
    "*clear()\n",
    "\n",
    "*del()"
   ]
  },
  {
   "cell_type": "code",
   "execution_count": null,
   "metadata": {},
   "outputs": [],
   "source": [
    "#remove parametre olarak silinecek elemanı alır ve ilk buldupu yerde siler\n",
    "\n",
    "my_list = [\"Burcu\",\"Aylin\",12,\"Ceyda\",2022,\"Python\",True,\"Python\",12]\n",
    "print(my_list)\n",
    "\n",
    "my_list.remove(12)\n",
    "print(my_list)\n",
    "\n",
    "my_list.remove(\"Aylin\")\n",
    "print(my_list)"
   ]
  },
  {
   "cell_type": "markdown",
   "metadata": {},
   "source": [
    "pop()\n",
    "verilen indeksteki elemanı silmek için kullanılır"
   ]
  },
  {
   "cell_type": "code",
   "execution_count": null,
   "metadata": {},
   "outputs": [],
   "source": [
    "my_list = [\"Burcu\",\"Aylin\",12,\"Ceyda\",2022,\"Python\",True,\"Python\",12]\n",
    "print(my_list)\n",
    "\n",
    "my_list.pop(1)\n",
    "print(my_list)"
   ]
  },
  {
   "cell_type": "markdown",
   "metadata": {},
   "source": [
    "del() belli aralıktaki elemanları sileriz."
   ]
  },
  {
   "cell_type": "code",
   "execution_count": null,
   "metadata": {},
   "outputs": [],
   "source": [
    "my_list = [\"Burcu\",\"Aylin\",12,\"Ceyda\",2022,\"Python\",True,\"Python\",12]\n",
    "print(my_list)\n",
    "\n",
    "del my_list[1:4]\n",
    "print(my_list)"
   ]
  },
  {
   "cell_type": "markdown",
   "metadata": {},
   "source": [
    "clear() ile listenin tüm elemanları silinir. Boş liste döner."
   ]
  },
  {
   "cell_type": "code",
   "execution_count": null,
   "metadata": {},
   "outputs": [],
   "source": [
    "my_list = [\"Burcu\",\"Aylin\",12,\"Ceyda\",2022,\"Python\",True,\"Python\",12]\n",
    "print(my_list)\n",
    "\n",
    "my_list.clear()\n",
    "print(my_list)\n",
    "\n",
    "my_list.append(23)\n",
    "print(my_list)"
   ]
  },
  {
   "cell_type": "code",
   "execution_count": null,
   "metadata": {},
   "outputs": [],
   "source": [
    "#Bir liste içerisinde bir elemanı bulalım\n",
    "my_list = [\"Burcu\",\"Aylin\",12,\"Ceyda\",2022,\"Python\",True,\"Python\",12]\n",
    "print(my_list.index(\"Ceyda\"))"
   ]
  },
  {
   "cell_type": "code",
   "execution_count": null,
   "metadata": {},
   "outputs": [],
   "source": [
    "#iki listeyi birleştirme\n",
    "# + operatörü ya da extend() metodu kullanılır\n",
    "my_list1 = [1,2,3]\n",
    "my_list2 = [4,5,6]\n",
    "\n",
    "my_list3 = my_list1 + my_list2\n",
    "print(my_list3)"
   ]
  },
  {
   "cell_type": "code",
   "execution_count": null,
   "metadata": {},
   "outputs": [],
   "source": [
    "my_list1.extend(my_list2)\n",
    "print(my_list1)"
   ]
  }
 ],
 "metadata": {
  "interpreter": {
   "hash": "3b5aeedf5bfc3a00fce61d61bb60f5e1e29a742a67792eb3f9b52690462ade10"
  },
  "kernelspec": {
   "display_name": "Python 3.10.4 64-bit (windows store)",
   "language": "python",
   "name": "python3"
  },
  "language_info": {
   "name": "python",
   "version": "3.10.5"
  },
  "orig_nbformat": 4
 },
 "nbformat": 4,
 "nbformat_minor": 2
}
